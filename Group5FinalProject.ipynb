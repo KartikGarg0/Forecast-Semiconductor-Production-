{
 "cells": [
  {
   "attachments": {},
   "cell_type": "markdown",
   "metadata": {},
   "source": [
    "# Data Mining Group 5\n",
    "## Factors influencing Semiconductor Crisis\n",
    "By:Terry Zhang, Linxi Wu, Iliyana Staneva, Kartik Garg\n"
   ]
  },
  {
   "cell_type": "markdown",
   "metadata": {},
   "source": [
    "### Importing modules and dataset"
   ]
  },
  {
   "cell_type": "code",
   "execution_count": 1,
   "metadata": {},
   "outputs": [],
   "source": [
    "import pandas as pd\n",
    "from matplotlib import pyplot as plt\n",
    "import statsmodels.api as sm\n",
    "from statsmodels.tsa.api import VAR\n",
    "from statsmodels.tsa.stattools import adfuller\n"
   ]
  },
  {
   "cell_type": "code",
   "execution_count": 2,
   "metadata": {},
   "outputs": [
    {
     "data": {
      "text/html": [
       "<div>\n",
       "<style scoped>\n",
       "    .dataframe tbody tr th:only-of-type {\n",
       "        vertical-align: middle;\n",
       "    }\n",
       "\n",
       "    .dataframe tbody tr th {\n",
       "        vertical-align: top;\n",
       "    }\n",
       "\n",
       "    .dataframe thead th {\n",
       "        text-align: right;\n",
       "    }\n",
       "</style>\n",
       "<table border=\"1\" class=\"dataframe\">\n",
       "  <thead>\n",
       "    <tr style=\"text-align: right;\">\n",
       "      <th></th>\n",
       "      <th>DATE</th>\n",
       "      <th>Producer Price Index(By  Industry in $)</th>\n",
       "      <th>Export Price Index(End Use of semiconductors)</th>\n",
       "      <th>Import Price Index(in $ End Use of semiconductors)</th>\n",
       "      <th>No. of employed peoples in semiconductor industry</th>\n",
       "      <th>Export Price Index (End use excluding without semiconductors)</th>\n",
       "      <th>Relative Importance Weights (Contribution to the Total Industrial Production Index % WISE)</th>\n",
       "      <th>Import Price Index (End Use): Capital Goods, Excluding Computers, Peripherals, and Semiconductors</th>\n",
       "      <th>Export Price Index(End Use): Capital Goods, Excluding Computers, Peripherals, and Semiconductors</th>\n",
       "      <th>Industrial Production: Non-Energy Excluding Motor Vehicles &amp; Parts, Computers, Communications Equipment, and Semiconductors</th>\n",
       "    </tr>\n",
       "  </thead>\n",
       "  <tbody>\n",
       "    <tr>\n",
       "      <th>0</th>\n",
       "      <td>1/1/1985</td>\n",
       "      <td>100.5</td>\n",
       "      <td>NaN</td>\n",
       "      <td>NaN</td>\n",
       "      <td>670.8</td>\n",
       "      <td>NaN</td>\n",
       "      <td>5.5335</td>\n",
       "      <td>NaN</td>\n",
       "      <td>NaN</td>\n",
       "      <td>81.4300</td>\n",
       "    </tr>\n",
       "    <tr>\n",
       "      <th>1</th>\n",
       "      <td>1/2/1985</td>\n",
       "      <td>100.8</td>\n",
       "      <td>NaN</td>\n",
       "      <td>NaN</td>\n",
       "      <td>665.6</td>\n",
       "      <td>NaN</td>\n",
       "      <td>5.3861</td>\n",
       "      <td>NaN</td>\n",
       "      <td>NaN</td>\n",
       "      <td>81.4319</td>\n",
       "    </tr>\n",
       "    <tr>\n",
       "      <th>2</th>\n",
       "      <td>1/3/1985</td>\n",
       "      <td>100.9</td>\n",
       "      <td>169.0</td>\n",
       "      <td>141.6</td>\n",
       "      <td>660.9</td>\n",
       "      <td>223.9</td>\n",
       "      <td>5.3103</td>\n",
       "      <td>69.2</td>\n",
       "      <td>76.2</td>\n",
       "      <td>82.1699</td>\n",
       "    </tr>\n",
       "    <tr>\n",
       "      <th>3</th>\n",
       "      <td>1/4/1985</td>\n",
       "      <td>100.6</td>\n",
       "      <td>NaN</td>\n",
       "      <td>NaN</td>\n",
       "      <td>653.9</td>\n",
       "      <td>NaN</td>\n",
       "      <td>5.1255</td>\n",
       "      <td>NaN</td>\n",
       "      <td>NaN</td>\n",
       "      <td>81.9731</td>\n",
       "    </tr>\n",
       "    <tr>\n",
       "      <th>4</th>\n",
       "      <td>1/5/1985</td>\n",
       "      <td>100.1</td>\n",
       "      <td>NaN</td>\n",
       "      <td>NaN</td>\n",
       "      <td>647.2</td>\n",
       "      <td>NaN</td>\n",
       "      <td>5.0821</td>\n",
       "      <td>NaN</td>\n",
       "      <td>NaN</td>\n",
       "      <td>82.1311</td>\n",
       "    </tr>\n",
       "  </tbody>\n",
       "</table>\n",
       "</div>"
      ],
      "text/plain": [
       "       DATE  Producer Price Index(By  Industry in $)  \\\n",
       "0  1/1/1985                                    100.5   \n",
       "1  1/2/1985                                    100.8   \n",
       "2  1/3/1985                                    100.9   \n",
       "3  1/4/1985                                    100.6   \n",
       "4  1/5/1985                                    100.1   \n",
       "\n",
       "   Export Price Index(End Use of semiconductors)  \\\n",
       "0                                            NaN   \n",
       "1                                            NaN   \n",
       "2                                          169.0   \n",
       "3                                            NaN   \n",
       "4                                            NaN   \n",
       "\n",
       "   Import Price Index(in $ End Use of semiconductors)  \\\n",
       "0                                                NaN    \n",
       "1                                                NaN    \n",
       "2                                              141.6    \n",
       "3                                                NaN    \n",
       "4                                                NaN    \n",
       "\n",
       "   No. of employed peoples in semiconductor industry  \\\n",
       "0                                              670.8   \n",
       "1                                              665.6   \n",
       "2                                              660.9   \n",
       "3                                              653.9   \n",
       "4                                              647.2   \n",
       "\n",
       "   Export Price Index (End use excluding without semiconductors)  \\\n",
       "0                                                NaN               \n",
       "1                                                NaN               \n",
       "2                                              223.9               \n",
       "3                                                NaN               \n",
       "4                                                NaN               \n",
       "\n",
       "   Relative Importance Weights (Contribution to the Total Industrial Production Index % WISE)  \\\n",
       "0                                             5.5335                                            \n",
       "1                                             5.3861                                            \n",
       "2                                             5.3103                                            \n",
       "3                                             5.1255                                            \n",
       "4                                             5.0821                                            \n",
       "\n",
       "   Import Price Index (End Use): Capital Goods, Excluding Computers, Peripherals, and Semiconductors  \\\n",
       "0                                                NaN                                                   \n",
       "1                                                NaN                                                   \n",
       "2                                               69.2                                                   \n",
       "3                                                NaN                                                   \n",
       "4                                                NaN                                                   \n",
       "\n",
       "   Export Price Index(End Use): Capital Goods, Excluding Computers, Peripherals, and Semiconductors  \\\n",
       "0                                                NaN                                                  \n",
       "1                                                NaN                                                  \n",
       "2                                               76.2                                                  \n",
       "3                                                NaN                                                  \n",
       "4                                                NaN                                                  \n",
       "\n",
       "   Industrial Production: Non-Energy Excluding Motor Vehicles & Parts, Computers, Communications Equipment, and Semiconductors  \n",
       "0                                            81.4300                                                                            \n",
       "1                                            81.4319                                                                            \n",
       "2                                            82.1699                                                                            \n",
       "3                                            81.9731                                                                            \n",
       "4                                            82.1311                                                                            "
      ]
     },
     "execution_count": 2,
     "metadata": {},
     "output_type": "execute_result"
    }
   ],
   "source": [
    "df = pd.read_csv('Semiconductor shortage affects.csv')\n",
    "df.head()"
   ]
  },
  {
   "cell_type": "markdown",
   "metadata": {},
   "source": [
    "## Preliminary EDA"
   ]
  },
  {
   "cell_type": "code",
   "execution_count": 3,
   "metadata": {},
   "outputs": [
    {
     "name": "stdout",
     "output_type": "stream",
     "text": [
      "<class 'pandas.core.frame.DataFrame'>\n",
      "RangeIndex: 443 entries, 0 to 442\n",
      "Data columns (total 10 columns):\n",
      " #   Column                                                                                                                       Non-Null Count  Dtype  \n",
      "---  ------                                                                                                                       --------------  -----  \n",
      " 0   DATE                                                                                                                         443 non-null    object \n",
      " 1   Producer Price Index(By  Industry in $)                                                                                      443 non-null    float64\n",
      " 2   Export Price Index(End Use of semiconductors)                                                                                370 non-null    float64\n",
      " 3   Import Price Index(in $ End Use of semiconductors)                                                                           370 non-null    float64\n",
      " 4   No. of employed peoples in semiconductor industry                                                                            443 non-null    float64\n",
      " 5   Export Price Index (End use excluding without semiconductors)                                                                370 non-null    float64\n",
      " 6   Relative Importance Weights (Contribution to the Total Industrial Production Index % WISE)                                   442 non-null    float64\n",
      " 7   Import Price Index (End Use): Capital Goods, Excluding Computers, Peripherals, and Semiconductors                            370 non-null    float64\n",
      " 8   Export Price Index(End Use): Capital Goods, Excluding Computers, Peripherals, and Semiconductors                             370 non-null    float64\n",
      " 9   Industrial Production: Non-Energy Excluding Motor Vehicles & Parts, Computers, Communications Equipment, and Semiconductors  442 non-null    float64\n",
      "dtypes: float64(9), object(1)\n",
      "memory usage: 34.7+ KB\n"
     ]
    }
   ],
   "source": [
    "df.info()"
   ]
  },
  {
   "cell_type": "code",
   "execution_count": 4,
   "metadata": {},
   "outputs": [
    {
     "data": {
      "text/plain": [
       "DATE                                                                                                                            0\n",
       "Producer Price Index(By  Industry in $)                                                                                         0\n",
       "Export Price Index(End Use of semiconductors)                                                                                  72\n",
       "Import Price Index(in $ End Use of semiconductors)                                                                             72\n",
       "No. of employed peoples in semiconductor industry                                                                               0\n",
       "Export Price Index (End use excluding without semiconductors)                                                                  72\n",
       "Relative Importance Weights (Contribution to the Total Industrial Production Index % WISE)                                      0\n",
       "Import Price Index (End Use): Capital Goods, Excluding Computers, Peripherals, and Semiconductors                              72\n",
       "Export Price Index(End Use): Capital Goods, Excluding Computers, Peripherals, and Semiconductors                               72\n",
       "Industrial Production: Non-Energy Excluding Motor Vehicles & Parts, Computers, Communications Equipment, and Semiconductors     0\n",
       "dtype: int64"
      ]
     },
     "execution_count": 4,
     "metadata": {},
     "output_type": "execute_result"
    }
   ],
   "source": [
    "df.drop([442], inplace = True) # Dropping 2021 data as it is null for most features\n",
    "df.isna().sum()"
   ]
  },
  {
   "cell_type": "code",
   "execution_count": 5,
   "metadata": {
    "scrolled": true
   },
   "outputs": [
    {
     "data": {
      "text/html": [
       "<div>\n",
       "<style scoped>\n",
       "    .dataframe tbody tr th:only-of-type {\n",
       "        vertical-align: middle;\n",
       "    }\n",
       "\n",
       "    .dataframe tbody tr th {\n",
       "        vertical-align: top;\n",
       "    }\n",
       "\n",
       "    .dataframe thead th {\n",
       "        text-align: right;\n",
       "    }\n",
       "</style>\n",
       "<table border=\"1\" class=\"dataframe\">\n",
       "  <thead>\n",
       "    <tr style=\"text-align: right;\">\n",
       "      <th></th>\n",
       "      <th>DATE</th>\n",
       "      <th>ProducerPriceIndex</th>\n",
       "      <th>ExportPriceIndex</th>\n",
       "      <th>ImportPriceIndex</th>\n",
       "      <th>PeopleEmployed</th>\n",
       "      <th>ExportPriceIndexExcluding</th>\n",
       "      <th>RelativeImportanceWeights</th>\n",
       "      <th>EndUse-ImportPriceIndex</th>\n",
       "      <th>EndUse-ExportPriceIndex</th>\n",
       "      <th>IndustrialProduction</th>\n",
       "    </tr>\n",
       "  </thead>\n",
       "  <tbody>\n",
       "    <tr>\n",
       "      <th>0</th>\n",
       "      <td>1/1/1985</td>\n",
       "      <td>100.5</td>\n",
       "      <td>NaN</td>\n",
       "      <td>NaN</td>\n",
       "      <td>670.8</td>\n",
       "      <td>NaN</td>\n",
       "      <td>5.5335</td>\n",
       "      <td>NaN</td>\n",
       "      <td>NaN</td>\n",
       "      <td>81.4300</td>\n",
       "    </tr>\n",
       "    <tr>\n",
       "      <th>1</th>\n",
       "      <td>1/2/1985</td>\n",
       "      <td>100.8</td>\n",
       "      <td>NaN</td>\n",
       "      <td>NaN</td>\n",
       "      <td>665.6</td>\n",
       "      <td>NaN</td>\n",
       "      <td>5.3861</td>\n",
       "      <td>NaN</td>\n",
       "      <td>NaN</td>\n",
       "      <td>81.4319</td>\n",
       "    </tr>\n",
       "    <tr>\n",
       "      <th>2</th>\n",
       "      <td>1/3/1985</td>\n",
       "      <td>100.9</td>\n",
       "      <td>169.0</td>\n",
       "      <td>141.6</td>\n",
       "      <td>660.9</td>\n",
       "      <td>223.9</td>\n",
       "      <td>5.3103</td>\n",
       "      <td>69.2</td>\n",
       "      <td>76.2</td>\n",
       "      <td>82.1699</td>\n",
       "    </tr>\n",
       "    <tr>\n",
       "      <th>3</th>\n",
       "      <td>1/4/1985</td>\n",
       "      <td>100.6</td>\n",
       "      <td>NaN</td>\n",
       "      <td>NaN</td>\n",
       "      <td>653.9</td>\n",
       "      <td>NaN</td>\n",
       "      <td>5.1255</td>\n",
       "      <td>NaN</td>\n",
       "      <td>NaN</td>\n",
       "      <td>81.9731</td>\n",
       "    </tr>\n",
       "    <tr>\n",
       "      <th>4</th>\n",
       "      <td>1/5/1985</td>\n",
       "      <td>100.1</td>\n",
       "      <td>NaN</td>\n",
       "      <td>NaN</td>\n",
       "      <td>647.2</td>\n",
       "      <td>NaN</td>\n",
       "      <td>5.0821</td>\n",
       "      <td>NaN</td>\n",
       "      <td>NaN</td>\n",
       "      <td>82.1311</td>\n",
       "    </tr>\n",
       "  </tbody>\n",
       "</table>\n",
       "</div>"
      ],
      "text/plain": [
       "       DATE  ProducerPriceIndex  ExportPriceIndex  ImportPriceIndex  \\\n",
       "0  1/1/1985               100.5               NaN               NaN   \n",
       "1  1/2/1985               100.8               NaN               NaN   \n",
       "2  1/3/1985               100.9             169.0             141.6   \n",
       "3  1/4/1985               100.6               NaN               NaN   \n",
       "4  1/5/1985               100.1               NaN               NaN   \n",
       "\n",
       "   PeopleEmployed  ExportPriceIndexExcluding  RelativeImportanceWeights  \\\n",
       "0           670.8                        NaN                     5.5335   \n",
       "1           665.6                        NaN                     5.3861   \n",
       "2           660.9                      223.9                     5.3103   \n",
       "3           653.9                        NaN                     5.1255   \n",
       "4           647.2                        NaN                     5.0821   \n",
       "\n",
       "   EndUse-ImportPriceIndex  EndUse-ExportPriceIndex  IndustrialProduction  \n",
       "0                      NaN                      NaN               81.4300  \n",
       "1                      NaN                      NaN               81.4319  \n",
       "2                     69.2                     76.2               82.1699  \n",
       "3                      NaN                      NaN               81.9731  \n",
       "4                      NaN                      NaN               82.1311  "
      ]
     },
     "execution_count": 5,
     "metadata": {},
     "output_type": "execute_result"
    }
   ],
   "source": [
    "# Renaming columns to only important names\n",
    "df = df.rename(\n",
    "    columns = {'Producer Price Index(By  Industry in $)':'ProducerPriceIndex',\n",
    "           'Export Price Index(End Use of semiconductors)':'ExportPriceIndex',\n",
    "           'Import Price Index(in $ End Use of semiconductors)':'ImportPriceIndex',\n",
    "           'No. of employed peoples in semiconductor industry':'PeopleEmployed',\n",
    "           'Export Price Index (End use excluding without semiconductors)':'ExportPriceIndexExcluding',\n",
    "           'Relative Importance Weights (Contribution to the Total Industrial Production Index % WISE)':'RelativeImportanceWeights',\n",
    "           'Export Price Index(End Use): Capital Goods, Excluding Computers, Peripherals, and Semiconductors':'EndUse-ExportPriceIndex',\n",
    "            'Import Price Index (End Use): Capital Goods, Excluding Computers, Peripherals, and Semiconductors':'EndUse-ImportPriceIndex',\n",
    "           'Industrial Production: Non-Energy Excluding Motor Vehicles & Parts, Computers, Communications Equipment, and Semiconductors':'IndustrialProduction'\n",
    "          })\n",
    "\n",
    "df.head()"
   ]
  },
  {
   "cell_type": "code",
   "execution_count": 6,
   "metadata": {},
   "outputs": [
    {
     "data": {
      "text/plain": [
       "(442, 10)"
      ]
     },
     "execution_count": 6,
     "metadata": {},
     "output_type": "execute_result"
    }
   ],
   "source": [
    "df.shape"
   ]
  },
  {
   "cell_type": "code",
   "execution_count": 7,
   "metadata": {},
   "outputs": [
    {
     "data": {
      "text/html": [
       "<div>\n",
       "<style scoped>\n",
       "    .dataframe tbody tr th:only-of-type {\n",
       "        vertical-align: middle;\n",
       "    }\n",
       "\n",
       "    .dataframe tbody tr th {\n",
       "        vertical-align: top;\n",
       "    }\n",
       "\n",
       "    .dataframe thead th {\n",
       "        text-align: right;\n",
       "    }\n",
       "</style>\n",
       "<table border=\"1\" class=\"dataframe\">\n",
       "  <thead>\n",
       "    <tr style=\"text-align: right;\">\n",
       "      <th></th>\n",
       "      <th>DATE</th>\n",
       "      <th>ProducerPriceIndex</th>\n",
       "      <th>ExportPriceIndex</th>\n",
       "      <th>ImportPriceIndex</th>\n",
       "      <th>PeopleEmployed</th>\n",
       "      <th>ExportPriceIndexExcluding</th>\n",
       "      <th>RelativeImportanceWeights</th>\n",
       "      <th>EndUse-ImportPriceIndex</th>\n",
       "      <th>EndUse-ExportPriceIndex</th>\n",
       "      <th>IndustrialProduction</th>\n",
       "    </tr>\n",
       "  </thead>\n",
       "  <tbody>\n",
       "    <tr>\n",
       "      <th>0</th>\n",
       "      <td>1/1/1985</td>\n",
       "      <td>100.5</td>\n",
       "      <td>169.0</td>\n",
       "      <td>141.6</td>\n",
       "      <td>670.8</td>\n",
       "      <td>223.9</td>\n",
       "      <td>5.5335</td>\n",
       "      <td>69.2</td>\n",
       "      <td>76.2</td>\n",
       "      <td>81.4300</td>\n",
       "    </tr>\n",
       "    <tr>\n",
       "      <th>1</th>\n",
       "      <td>1/2/1985</td>\n",
       "      <td>100.8</td>\n",
       "      <td>169.0</td>\n",
       "      <td>141.6</td>\n",
       "      <td>665.6</td>\n",
       "      <td>223.9</td>\n",
       "      <td>5.3861</td>\n",
       "      <td>69.2</td>\n",
       "      <td>76.2</td>\n",
       "      <td>81.4319</td>\n",
       "    </tr>\n",
       "    <tr>\n",
       "      <th>2</th>\n",
       "      <td>1/3/1985</td>\n",
       "      <td>100.9</td>\n",
       "      <td>169.0</td>\n",
       "      <td>141.6</td>\n",
       "      <td>660.9</td>\n",
       "      <td>223.9</td>\n",
       "      <td>5.3103</td>\n",
       "      <td>69.2</td>\n",
       "      <td>76.2</td>\n",
       "      <td>82.1699</td>\n",
       "    </tr>\n",
       "    <tr>\n",
       "      <th>3</th>\n",
       "      <td>1/4/1985</td>\n",
       "      <td>100.6</td>\n",
       "      <td>169.6</td>\n",
       "      <td>147.5</td>\n",
       "      <td>653.9</td>\n",
       "      <td>220.9</td>\n",
       "      <td>5.1255</td>\n",
       "      <td>70.3</td>\n",
       "      <td>76.8</td>\n",
       "      <td>81.9731</td>\n",
       "    </tr>\n",
       "    <tr>\n",
       "      <th>4</th>\n",
       "      <td>1/5/1985</td>\n",
       "      <td>100.1</td>\n",
       "      <td>169.6</td>\n",
       "      <td>147.5</td>\n",
       "      <td>647.2</td>\n",
       "      <td>220.9</td>\n",
       "      <td>5.0821</td>\n",
       "      <td>70.3</td>\n",
       "      <td>76.8</td>\n",
       "      <td>82.1311</td>\n",
       "    </tr>\n",
       "  </tbody>\n",
       "</table>\n",
       "</div>"
      ],
      "text/plain": [
       "       DATE  ProducerPriceIndex  ExportPriceIndex  ImportPriceIndex  \\\n",
       "0  1/1/1985               100.5             169.0             141.6   \n",
       "1  1/2/1985               100.8             169.0             141.6   \n",
       "2  1/3/1985               100.9             169.0             141.6   \n",
       "3  1/4/1985               100.6             169.6             147.5   \n",
       "4  1/5/1985               100.1             169.6             147.5   \n",
       "\n",
       "   PeopleEmployed  ExportPriceIndexExcluding  RelativeImportanceWeights  \\\n",
       "0           670.8                      223.9                     5.5335   \n",
       "1           665.6                      223.9                     5.3861   \n",
       "2           660.9                      223.9                     5.3103   \n",
       "3           653.9                      220.9                     5.1255   \n",
       "4           647.2                      220.9                     5.0821   \n",
       "\n",
       "   EndUse-ImportPriceIndex  EndUse-ExportPriceIndex  IndustrialProduction  \n",
       "0                     69.2                     76.2               81.4300  \n",
       "1                     69.2                     76.2               81.4319  \n",
       "2                     69.2                     76.2               82.1699  \n",
       "3                     70.3                     76.8               81.9731  \n",
       "4                     70.3                     76.8               82.1311  "
      ]
     },
     "execution_count": 7,
     "metadata": {},
     "output_type": "execute_result"
    }
   ],
   "source": [
    "df.fillna(method='bfill', inplace = True)\n",
    "df.head()"
   ]
  },
  {
   "cell_type": "markdown",
   "metadata": {},
   "source": [
    "## Data Cleaning and Aggregation"
   ]
  },
  {
   "cell_type": "code",
   "execution_count": 8,
   "metadata": {},
   "outputs": [
    {
     "data": {
      "text/html": [
       "<div>\n",
       "<style scoped>\n",
       "    .dataframe tbody tr th:only-of-type {\n",
       "        vertical-align: middle;\n",
       "    }\n",
       "\n",
       "    .dataframe tbody tr th {\n",
       "        vertical-align: top;\n",
       "    }\n",
       "\n",
       "    .dataframe thead th {\n",
       "        text-align: right;\n",
       "    }\n",
       "</style>\n",
       "<table border=\"1\" class=\"dataframe\">\n",
       "  <thead>\n",
       "    <tr style=\"text-align: right;\">\n",
       "      <th></th>\n",
       "      <th>year</th>\n",
       "      <th>production</th>\n",
       "    </tr>\n",
       "  </thead>\n",
       "  <tbody>\n",
       "    <tr>\n",
       "      <th>0</th>\n",
       "      <td>1985</td>\n",
       "      <td>986.3140</td>\n",
       "    </tr>\n",
       "    <tr>\n",
       "      <th>1</th>\n",
       "      <td>1986</td>\n",
       "      <td>1010.2932</td>\n",
       "    </tr>\n",
       "    <tr>\n",
       "      <th>2</th>\n",
       "      <td>1987</td>\n",
       "      <td>1057.8092</td>\n",
       "    </tr>\n",
       "  </tbody>\n",
       "</table>\n",
       "</div>"
      ],
      "text/plain": [
       "   year  production\n",
       "0  1985    986.3140\n",
       "1  1986   1010.2932\n",
       "2  1987   1057.8092"
      ]
     },
     "execution_count": 8,
     "metadata": {},
     "output_type": "execute_result"
    }
   ],
   "source": [
    "production = []\n",
    "df['year'] = pd.DatetimeIndex(df['DATE']).year\n",
    "\n",
    "for i in range(1985,2021):\n",
    "    x = df.where(df['year'] == i).dropna()['IndustrialProduction'].sum()\n",
    "    production.append(x)\n",
    "\n",
    "production = zip(range(1985,2021), production)\n",
    "production = pd.DataFrame(production)\n",
    "production = production.rename(columns = {0: 'year',1: 'production'})\n",
    "production.head(3)"
   ]
  },
  {
   "cell_type": "code",
   "execution_count": 9,
   "metadata": {},
   "outputs": [],
   "source": [
    "columns = df.columns\n",
    "columns = columns.drop(['DATE', 'IndustrialProduction', 'year'])\n",
    "columns\n",
    "\n",
    "# same for the ProducerPriceIndex\n",
    "for j in columns:\n",
    "    k = []\n",
    "    for i in range(1985,2021):\n",
    "        x = df.where(df['year'] == i).dropna()[j].mean()\n",
    "        k.append(x)\n",
    "    production = production.join(pd.DataFrame(k, columns=[j]))"
   ]
  },
  {
   "cell_type": "code",
   "execution_count": 10,
   "metadata": {
    "scrolled": false
   },
   "outputs": [
    {
     "data": {
      "text/html": [
       "<div>\n",
       "<style scoped>\n",
       "    .dataframe tbody tr th:only-of-type {\n",
       "        vertical-align: middle;\n",
       "    }\n",
       "\n",
       "    .dataframe tbody tr th {\n",
       "        vertical-align: top;\n",
       "    }\n",
       "\n",
       "    .dataframe thead th {\n",
       "        text-align: right;\n",
       "    }\n",
       "</style>\n",
       "<table border=\"1\" class=\"dataframe\">\n",
       "  <thead>\n",
       "    <tr style=\"text-align: right;\">\n",
       "      <th></th>\n",
       "      <th>year</th>\n",
       "      <th>production</th>\n",
       "      <th>ProducerPriceIndex</th>\n",
       "      <th>ExportPriceIndex</th>\n",
       "      <th>ImportPriceIndex</th>\n",
       "      <th>PeopleEmployed</th>\n",
       "      <th>ExportPriceIndexExcluding</th>\n",
       "      <th>RelativeImportanceWeights</th>\n",
       "      <th>EndUse-ImportPriceIndex</th>\n",
       "      <th>EndUse-ExportPriceIndex</th>\n",
       "      <th>China  GDP Growth (%)</th>\n",
       "      <th>US GDP Growth (%)</th>\n",
       "    </tr>\n",
       "  </thead>\n",
       "  <tbody>\n",
       "    <tr>\n",
       "      <th>0</th>\n",
       "      <td>1985</td>\n",
       "      <td>986.3140</td>\n",
       "      <td>100.525000</td>\n",
       "      <td>164.575</td>\n",
       "      <td>140.975</td>\n",
       "      <td>635.758333</td>\n",
       "      <td>221.025</td>\n",
       "      <td>5.088275</td>\n",
       "      <td>71.300</td>\n",
       "      <td>76.625</td>\n",
       "      <td>13.4307</td>\n",
       "      <td>4.1697</td>\n",
       "    </tr>\n",
       "    <tr>\n",
       "      <th>1</th>\n",
       "      <td>1986</td>\n",
       "      <td>1010.2932</td>\n",
       "      <td>102.441667</td>\n",
       "      <td>158.625</td>\n",
       "      <td>139.300</td>\n",
       "      <td>601.550000</td>\n",
       "      <td>218.475</td>\n",
       "      <td>5.103667</td>\n",
       "      <td>80.100</td>\n",
       "      <td>77.550</td>\n",
       "      <td>8.9500</td>\n",
       "      <td>3.4627</td>\n",
       "    </tr>\n",
       "    <tr>\n",
       "      <th>2</th>\n",
       "      <td>1987</td>\n",
       "      <td>1057.8092</td>\n",
       "      <td>102.633333</td>\n",
       "      <td>160.175</td>\n",
       "      <td>144.350</td>\n",
       "      <td>593.216667</td>\n",
       "      <td>210.650</td>\n",
       "      <td>5.566208</td>\n",
       "      <td>88.825</td>\n",
       "      <td>79.175</td>\n",
       "      <td>11.6574</td>\n",
       "      <td>3.4596</td>\n",
       "    </tr>\n",
       "    <tr>\n",
       "      <th>3</th>\n",
       "      <td>1988</td>\n",
       "      <td>1104.2269</td>\n",
       "      <td>104.033333</td>\n",
       "      <td>154.125</td>\n",
       "      <td>155.725</td>\n",
       "      <td>611.575000</td>\n",
       "      <td>211.000</td>\n",
       "      <td>5.640083</td>\n",
       "      <td>94.875</td>\n",
       "      <td>81.900</td>\n",
       "      <td>11.2226</td>\n",
       "      <td>4.1770</td>\n",
       "    </tr>\n",
       "    <tr>\n",
       "      <th>4</th>\n",
       "      <td>1989</td>\n",
       "      <td>1111.1314</td>\n",
       "      <td>105.108333</td>\n",
       "      <td>147.625</td>\n",
       "      <td>162.400</td>\n",
       "      <td>601.433333</td>\n",
       "      <td>208.050</td>\n",
       "      <td>5.467842</td>\n",
       "      <td>95.925</td>\n",
       "      <td>85.275</td>\n",
       "      <td>4.2063</td>\n",
       "      <td>3.6727</td>\n",
       "    </tr>\n",
       "  </tbody>\n",
       "</table>\n",
       "</div>"
      ],
      "text/plain": [
       "   year  production  ProducerPriceIndex  ExportPriceIndex  ImportPriceIndex  \\\n",
       "0  1985    986.3140          100.525000           164.575           140.975   \n",
       "1  1986   1010.2932          102.441667           158.625           139.300   \n",
       "2  1987   1057.8092          102.633333           160.175           144.350   \n",
       "3  1988   1104.2269          104.033333           154.125           155.725   \n",
       "4  1989   1111.1314          105.108333           147.625           162.400   \n",
       "\n",
       "   PeopleEmployed  ExportPriceIndexExcluding  RelativeImportanceWeights  \\\n",
       "0      635.758333                    221.025                   5.088275   \n",
       "1      601.550000                    218.475                   5.103667   \n",
       "2      593.216667                    210.650                   5.566208   \n",
       "3      611.575000                    211.000                   5.640083   \n",
       "4      601.433333                    208.050                   5.467842   \n",
       "\n",
       "   EndUse-ImportPriceIndex  EndUse-ExportPriceIndex  China  GDP Growth (%)  \\\n",
       "0                   71.300                   76.625                13.4307   \n",
       "1                   80.100                   77.550                 8.9500   \n",
       "2                   88.825                   79.175                11.6574   \n",
       "3                   94.875                   81.900                11.2226   \n",
       "4                   95.925                   85.275                 4.2063   \n",
       "\n",
       "   US GDP Growth (%)  \n",
       "0             4.1697  \n",
       "1             3.4627  \n",
       "2             3.4596  \n",
       "3             4.1770  \n",
       "4             3.6727  "
      ]
     },
     "execution_count": 10,
     "metadata": {},
     "output_type": "execute_result"
    }
   ],
   "source": [
    "GDP = pd.read_csv('china-gdp-growth-rate.csv')\n",
    "GDP.tail(5)\n",
    "GDP = pd.DataFrame(GDP.drop(['year'], axis = 1))\n",
    "\n",
    "production = production.join(GDP)\n",
    "production.head()"
   ]
  },
  {
   "cell_type": "markdown",
   "metadata": {},
   "source": [
    "## EDA on the final data"
   ]
  },
  {
   "cell_type": "code",
   "execution_count": 11,
   "metadata": {},
   "outputs": [
    {
     "data": {
      "text/plain": [
       "<AxesSubplot:xlabel='year', ylabel='production'>"
      ]
     },
     "execution_count": 11,
     "metadata": {},
     "output_type": "execute_result"
    },
    {
     "data": {
      "image/png": "[encoded data removed]",
      "text/plain": [
       "<Figure size 432x288 with 1 Axes>"
      ]
     },
     "metadata": {
      "needs_background": "light"
     },
     "output_type": "display_data"
    }
   ],
   "source": [
    "production.plot.scatter(x= 'year', y='production')"
   ]
  },
  {
   "cell_type": "code",
   "execution_count": 12,
   "metadata": {},
   "outputs": [
    {
     "data": {
      "text/plain": [
       "<AxesSubplot:xlabel='year', ylabel='China  GDP Growth (%)'>"
      ]
     },
     "execution_count": 12,
     "metadata": {},
     "output_type": "execute_result"
    },
    {
     "data": {
      "image/png": "[encoded data removed]",
      "text/plain": [
       "<Figure size 432x288 with 1 Axes>"
      ]
     },
     "metadata": {
      "needs_background": "light"
     },
     "output_type": "display_data"
    }
   ],
   "source": [
    "production.plot.scatter(x= 'year', y='China  GDP Growth (%)')"
   ]
  },
  {
   "cell_type": "code",
   "execution_count": 13,
   "metadata": {},
   "outputs": [
    {
     "data": {
      "text/plain": [
       "<AxesSubplot:xlabel='year', ylabel='US GDP Growth (%)'>"
      ]
     },
     "execution_count": 13,
     "metadata": {},
     "output_type": "execute_result"
    },
    {
     "data": {
      "image/png": "[encoded data removed]",
      "text/plain": [
       "<Figure size 432x288 with 1 Axes>"
      ]
     },
     "metadata": {
      "needs_background": "light"
     },
     "output_type": "display_data"
    }
   ],
   "source": [
    "production.plot.scatter(x= 'year', y='US GDP Growth (%)')"
   ]
  },
  {
   "cell_type": "code",
   "execution_count": 14,
   "metadata": {},
   "outputs": [
    {
     "data": {
      "text/plain": [
       "<AxesSubplot:>"
      ]
     },
     "execution_count": 14,
     "metadata": {},
     "output_type": "execute_result"
    },
    {
     "data": {
      "image/png": "[encoded data removed]",
      "text/plain": [
       "<Figure size 432x288 with 1 Axes>"
      ]
     },
     "metadata": {
      "needs_background": "light"
     },
     "output_type": "display_data"
    }
   ],
   "source": [
    "production[['production']].boxplot()"
   ]
  },
  {
   "cell_type": "code",
   "execution_count": 15,
   "metadata": {},
   "outputs": [
    {
     "data": {
      "text/plain": [
       "<AxesSubplot:>"
      ]
     },
     "execution_count": 15,
     "metadata": {},
     "output_type": "execute_result"
    },
    {
     "data": {
      "image/png": "[encoded data removed]",
      "text/plain": [
       "<Figure size 432x288 with 1 Axes>"
      ]
     },
     "metadata": {
      "needs_background": "light"
     },
     "output_type": "display_data"
    }
   ],
   "source": [
    "production[['PeopleEmployed']].boxplot()"
   ]
  },
  {
   "cell_type": "code",
   "execution_count": 16,
   "metadata": {},
   "outputs": [
    {
     "data": {
      "text/plain": [
       "<AxesSubplot:>"
      ]
     },
     "execution_count": 16,
     "metadata": {},
     "output_type": "execute_result"
    },
    {
     "data": {
      "image/png": "[encoded data removed]",
      "text/plain": [
       "<Figure size 432x288 with 1 Axes>"
      ]
     },
     "metadata": {
      "needs_background": "light"
     },
     "output_type": "display_data"
    }
   ],
   "source": [
    "production[['RelativeImportanceWeights']].boxplot()"
   ]
  },
  {
   "cell_type": "code",
   "execution_count": 17,
   "metadata": {
    "scrolled": false
   },
   "outputs": [
    {
     "data": {
      "text/plain": [
       "<AxesSubplot:>"
      ]
     },
     "execution_count": 17,
     "metadata": {},
     "output_type": "execute_result"
    },
    {
     "data": {
      "image/png": "[encoded data removed]",
      "text/plain": [
       "<Figure size 432x288 with 2 Axes>"
      ]
     },
     "metadata": {
      "needs_background": "light"
     },
     "output_type": "display_data"
    }
   ],
   "source": [
    "import seaborn as sb\n",
    "sb.heatmap(production.corr())"
   ]
  },
  {
   "cell_type": "markdown",
   "metadata": {},
   "source": [
    "### Findings:\n",
    "\n",
    "We could see that those variables in the middle have a high correlation with each other.\n",
    "\n",
    "Based on the economic analysis and understanding of te industry, production is almost always catching up with demand in semiconductor industry. We need to drop those variables that are highly related to the key variables: \n",
    "\n",
    "'ExportPriceIndex', 'ImportPriceIndex', 'ExportPriceIndexExcluding', 'EndUse-ExportPriceIndex'"
   ]
  },
  {
   "cell_type": "markdown",
   "metadata": {},
   "source": [
    "## Feature Selection based on EDA"
   ]
  },
  {
   "cell_type": "code",
   "execution_count": 18,
   "metadata": {},
   "outputs": [
    {
     "data": {
      "text/plain": [
       "Index(['year', 'production', 'ProducerPriceIndex', 'PeopleEmployed',\n",
       "       'RelativeImportanceWeights', 'EndUse-ImportPriceIndex',\n",
       "       'China  GDP Growth (%)', 'US GDP Growth (%)'],\n",
       "      dtype='object')"
      ]
     },
     "execution_count": 18,
     "metadata": {},
     "output_type": "execute_result"
    }
   ],
   "source": [
    "production = production.drop(['ExportPriceIndex', 'ImportPriceIndex', 'ExportPriceIndexExcluding', \n",
    "                              'EndUse-ExportPriceIndex'], axis = 1)\n",
    "\n",
    "production.columns"
   ]
  },
  {
   "cell_type": "code",
   "execution_count": 19,
   "metadata": {
    "scrolled": false
   },
   "outputs": [
    {
     "data": {
      "text/plain": [
       "<AxesSubplot:>"
      ]
     },
     "execution_count": 19,
     "metadata": {},
     "output_type": "execute_result"
    },
    {
     "data": {
      "image/png": "[encoded data removed]",
      "text/plain": [
       "<Figure size 432x288 with 2 Axes>"
      ]
     },
     "metadata": {
      "needs_background": "light"
     },
     "output_type": "display_data"
    }
   ],
   "source": [
    "sb.heatmap(production.corr())"
   ]
  },
  {
   "cell_type": "markdown",
   "metadata": {},
   "source": [
    "#### Now we spliting our data into three different dataset based on the three anomalies detected based on the scatter plot of semoconductor \"production\".\n",
    "\n",
    "The three split will be from\n",
    "\n",
    "* 1985 - 2001 (2001 for testing)\n",
    "* 2001 - 2008 (2008 for testing)\n",
    "* 2008 - 20020 (2019 and 2020 for testing)"
   ]
  },
  {
   "cell_type": "code",
   "execution_count": 20,
   "metadata": {
    "scrolled": true
   },
   "outputs": [
    {
     "data": {
      "text/html": [
       "<div>\n",
       "<style scoped>\n",
       "    .dataframe tbody tr th:only-of-type {\n",
       "        vertical-align: middle;\n",
       "    }\n",
       "\n",
       "    .dataframe tbody tr th {\n",
       "        vertical-align: top;\n",
       "    }\n",
       "\n",
       "    .dataframe thead th {\n",
       "        text-align: right;\n",
       "    }\n",
       "</style>\n",
       "<table border=\"1\" class=\"dataframe\">\n",
       "  <thead>\n",
       "    <tr style=\"text-align: right;\">\n",
       "      <th></th>\n",
       "      <th>production</th>\n",
       "      <th>ProducerPriceIndex</th>\n",
       "      <th>PeopleEmployed</th>\n",
       "      <th>RelativeImportanceWeights</th>\n",
       "      <th>EndUse-ImportPriceIndex</th>\n",
       "      <th>China  GDP Growth (%)</th>\n",
       "      <th>US GDP Growth (%)</th>\n",
       "    </tr>\n",
       "    <tr>\n",
       "      <th>year</th>\n",
       "      <th></th>\n",
       "      <th></th>\n",
       "      <th></th>\n",
       "      <th></th>\n",
       "      <th></th>\n",
       "      <th></th>\n",
       "      <th></th>\n",
       "    </tr>\n",
       "  </thead>\n",
       "  <tbody>\n",
       "    <tr>\n",
       "      <th>1985</th>\n",
       "      <td>986.3140</td>\n",
       "      <td>100.525000</td>\n",
       "      <td>635.758333</td>\n",
       "      <td>5.088275</td>\n",
       "      <td>71.300</td>\n",
       "      <td>13.4307</td>\n",
       "      <td>4.1697</td>\n",
       "    </tr>\n",
       "    <tr>\n",
       "      <th>1986</th>\n",
       "      <td>1010.2932</td>\n",
       "      <td>102.441667</td>\n",
       "      <td>601.550000</td>\n",
       "      <td>5.103667</td>\n",
       "      <td>80.100</td>\n",
       "      <td>8.9500</td>\n",
       "      <td>3.4627</td>\n",
       "    </tr>\n",
       "    <tr>\n",
       "      <th>1987</th>\n",
       "      <td>1057.8092</td>\n",
       "      <td>102.633333</td>\n",
       "      <td>593.216667</td>\n",
       "      <td>5.566208</td>\n",
       "      <td>88.825</td>\n",
       "      <td>11.6574</td>\n",
       "      <td>3.4596</td>\n",
       "    </tr>\n",
       "  </tbody>\n",
       "</table>\n",
       "</div>"
      ],
      "text/plain": [
       "      production  ProducerPriceIndex  PeopleEmployed  \\\n",
       "year                                                   \n",
       "1985    986.3140          100.525000      635.758333   \n",
       "1986   1010.2932          102.441667      601.550000   \n",
       "1987   1057.8092          102.633333      593.216667   \n",
       "\n",
       "      RelativeImportanceWeights  EndUse-ImportPriceIndex  \\\n",
       "year                                                       \n",
       "1985                   5.088275                   71.300   \n",
       "1986                   5.103667                   80.100   \n",
       "1987                   5.566208                   88.825   \n",
       "\n",
       "      China  GDP Growth (%)  US GDP Growth (%)  \n",
       "year                                            \n",
       "1985                13.4307             4.1697  \n",
       "1986                 8.9500             3.4627  \n",
       "1987                11.6574             3.4596  "
      ]
     },
     "execution_count": 20,
     "metadata": {},
     "output_type": "execute_result"
    }
   ],
   "source": [
    "p2 = production.copy()\n",
    "p2 = p2.set_index(\"year\")\n",
    "p2.head(3)"
   ]
  },
  {
   "cell_type": "code",
   "execution_count": 21,
   "metadata": {},
   "outputs": [],
   "source": [
    "production_before_2001 = p2[0:16][:].copy()\n",
    "production_2001 = p2[16:17][:].copy()\n",
    "production_between_2001_to_2007 = p2[16:23][:].copy()\n",
    "production_2008 = p2[23:24][:].copy()\n",
    "production_between_2009_to_2018 = p2[24:34][:].copy()\n",
    "production_2019_2020 = p2[34:36][:].copy()"
   ]
  },
  {
   "cell_type": "code",
   "execution_count": 22,
   "metadata": {},
   "outputs": [
    {
     "data": {
      "text/html": [
       "<div>\n",
       "<style scoped>\n",
       "    .dataframe tbody tr th:only-of-type {\n",
       "        vertical-align: middle;\n",
       "    }\n",
       "\n",
       "    .dataframe tbody tr th {\n",
       "        vertical-align: top;\n",
       "    }\n",
       "\n",
       "    .dataframe thead th {\n",
       "        text-align: right;\n",
       "    }\n",
       "</style>\n",
       "<table border=\"1\" class=\"dataframe\">\n",
       "  <thead>\n",
       "    <tr style=\"text-align: right;\">\n",
       "      <th></th>\n",
       "      <th>production</th>\n",
       "      <th>ProducerPriceIndex</th>\n",
       "      <th>PeopleEmployed</th>\n",
       "      <th>RelativeImportanceWeights</th>\n",
       "      <th>EndUse-ImportPriceIndex</th>\n",
       "      <th>China  GDP Growth (%)</th>\n",
       "      <th>US GDP Growth (%)</th>\n",
       "    </tr>\n",
       "    <tr>\n",
       "      <th>year</th>\n",
       "      <th></th>\n",
       "      <th></th>\n",
       "      <th></th>\n",
       "      <th></th>\n",
       "      <th></th>\n",
       "      <th></th>\n",
       "      <th></th>\n",
       "    </tr>\n",
       "  </thead>\n",
       "  <tbody>\n",
       "    <tr>\n",
       "      <th>1999</th>\n",
       "      <td>1328.5580</td>\n",
       "      <td>90.091667</td>\n",
       "      <td>630.608333</td>\n",
       "      <td>8.359458</td>\n",
       "      <td>101.333333</td>\n",
       "      <td>7.6617</td>\n",
       "      <td>4.7532</td>\n",
       "    </tr>\n",
       "    <tr>\n",
       "      <th>2000</th>\n",
       "      <td>1340.0753</td>\n",
       "      <td>88.758333</td>\n",
       "      <td>676.225000</td>\n",
       "      <td>8.258425</td>\n",
       "      <td>100.008333</td>\n",
       "      <td>8.4901</td>\n",
       "      <td>4.1275</td>\n",
       "    </tr>\n",
       "  </tbody>\n",
       "</table>\n",
       "</div>"
      ],
      "text/plain": [
       "      production  ProducerPriceIndex  PeopleEmployed  \\\n",
       "year                                                   \n",
       "1999   1328.5580           90.091667      630.608333   \n",
       "2000   1340.0753           88.758333      676.225000   \n",
       "\n",
       "      RelativeImportanceWeights  EndUse-ImportPriceIndex  \\\n",
       "year                                                       \n",
       "1999                   8.359458               101.333333   \n",
       "2000                   8.258425               100.008333   \n",
       "\n",
       "      China  GDP Growth (%)  US GDP Growth (%)  \n",
       "year                                            \n",
       "1999                 7.6617             4.7532  \n",
       "2000                 8.4901             4.1275  "
      ]
     },
     "execution_count": 22,
     "metadata": {},
     "output_type": "execute_result"
    }
   ],
   "source": [
    "production_before_2001.tail(2)"
   ]
  },
  {
   "cell_type": "code",
   "execution_count": 23,
   "metadata": {},
   "outputs": [
    {
     "data": {
      "text/html": [
       "<div>\n",
       "<style scoped>\n",
       "    .dataframe tbody tr th:only-of-type {\n",
       "        vertical-align: middle;\n",
       "    }\n",
       "\n",
       "    .dataframe tbody tr th {\n",
       "        vertical-align: top;\n",
       "    }\n",
       "\n",
       "    .dataframe thead th {\n",
       "        text-align: right;\n",
       "    }\n",
       "</style>\n",
       "<table border=\"1\" class=\"dataframe\">\n",
       "  <thead>\n",
       "    <tr style=\"text-align: right;\">\n",
       "      <th></th>\n",
       "      <th>production</th>\n",
       "      <th>ProducerPriceIndex</th>\n",
       "      <th>PeopleEmployed</th>\n",
       "      <th>RelativeImportanceWeights</th>\n",
       "      <th>EndUse-ImportPriceIndex</th>\n",
       "      <th>China  GDP Growth (%)</th>\n",
       "      <th>US GDP Growth (%)</th>\n",
       "    </tr>\n",
       "    <tr>\n",
       "      <th>year</th>\n",
       "      <th></th>\n",
       "      <th></th>\n",
       "      <th></th>\n",
       "      <th></th>\n",
       "      <th></th>\n",
       "      <th></th>\n",
       "      <th></th>\n",
       "    </tr>\n",
       "  </thead>\n",
       "  <tbody>\n",
       "    <tr>\n",
       "      <th>2001</th>\n",
       "      <td>1281.3495</td>\n",
       "      <td>86.383333</td>\n",
       "      <td>645.225</td>\n",
       "      <td>6.442067</td>\n",
       "      <td>98.866667</td>\n",
       "      <td>8.3357</td>\n",
       "      <td>0.9983</td>\n",
       "    </tr>\n",
       "  </tbody>\n",
       "</table>\n",
       "</div>"
      ],
      "text/plain": [
       "      production  ProducerPriceIndex  PeopleEmployed  \\\n",
       "year                                                   \n",
       "2001   1281.3495           86.383333         645.225   \n",
       "\n",
       "      RelativeImportanceWeights  EndUse-ImportPriceIndex  \\\n",
       "year                                                       \n",
       "2001                   6.442067                98.866667   \n",
       "\n",
       "      China  GDP Growth (%)  US GDP Growth (%)  \n",
       "year                                            \n",
       "2001                 8.3357             0.9983  "
      ]
     },
     "execution_count": 23,
     "metadata": {},
     "output_type": "execute_result"
    }
   ],
   "source": [
    "production_2001"
   ]
  },
  {
   "cell_type": "code",
   "execution_count": 24,
   "metadata": {
    "scrolled": true
   },
   "outputs": [
    {
     "data": {
      "text/html": [
       "<div>\n",
       "<style scoped>\n",
       "    .dataframe tbody tr th:only-of-type {\n",
       "        vertical-align: middle;\n",
       "    }\n",
       "\n",
       "    .dataframe tbody tr th {\n",
       "        vertical-align: top;\n",
       "    }\n",
       "\n",
       "    .dataframe thead th {\n",
       "        text-align: right;\n",
       "    }\n",
       "</style>\n",
       "<table border=\"1\" class=\"dataframe\">\n",
       "  <thead>\n",
       "    <tr style=\"text-align: right;\">\n",
       "      <th></th>\n",
       "      <th>production</th>\n",
       "      <th>ProducerPriceIndex</th>\n",
       "      <th>PeopleEmployed</th>\n",
       "      <th>RelativeImportanceWeights</th>\n",
       "      <th>EndUse-ImportPriceIndex</th>\n",
       "      <th>China  GDP Growth (%)</th>\n",
       "      <th>US GDP Growth (%)</th>\n",
       "    </tr>\n",
       "    <tr>\n",
       "      <th>year</th>\n",
       "      <th></th>\n",
       "      <th></th>\n",
       "      <th></th>\n",
       "      <th></th>\n",
       "      <th></th>\n",
       "      <th></th>\n",
       "      <th></th>\n",
       "    </tr>\n",
       "  </thead>\n",
       "  <tbody>\n",
       "    <tr>\n",
       "      <th>2006</th>\n",
       "      <td>1361.9636</td>\n",
       "      <td>75.141667</td>\n",
       "      <td>457.85</td>\n",
       "      <td>4.702450</td>\n",
       "      <td>102.816667</td>\n",
       "      <td>12.7210</td>\n",
       "      <td>2.8550</td>\n",
       "    </tr>\n",
       "    <tr>\n",
       "      <th>2007</th>\n",
       "      <td>1385.1755</td>\n",
       "      <td>70.200000</td>\n",
       "      <td>447.50</td>\n",
       "      <td>4.410183</td>\n",
       "      <td>105.633333</td>\n",
       "      <td>14.2309</td>\n",
       "      <td>1.8762</td>\n",
       "    </tr>\n",
       "  </tbody>\n",
       "</table>\n",
       "</div>"
      ],
      "text/plain": [
       "      production  ProducerPriceIndex  PeopleEmployed  \\\n",
       "year                                                   \n",
       "2006   1361.9636           75.141667          457.85   \n",
       "2007   1385.1755           70.200000          447.50   \n",
       "\n",
       "      RelativeImportanceWeights  EndUse-ImportPriceIndex  \\\n",
       "year                                                       \n",
       "2006                   4.702450               102.816667   \n",
       "2007                   4.410183               105.633333   \n",
       "\n",
       "      China  GDP Growth (%)  US GDP Growth (%)  \n",
       "year                                            \n",
       "2006                12.7210             2.8550  \n",
       "2007                14.2309             1.8762  "
      ]
     },
     "execution_count": 24,
     "metadata": {},
     "output_type": "execute_result"
    }
   ],
   "source": [
    "production_between_2001_to_2007.tail(2)"
   ]
  },
  {
   "cell_type": "code",
   "execution_count": 25,
   "metadata": {},
   "outputs": [
    {
     "data": {
      "text/html": [
       "<div>\n",
       "<style scoped>\n",
       "    .dataframe tbody tr th:only-of-type {\n",
       "        vertical-align: middle;\n",
       "    }\n",
       "\n",
       "    .dataframe tbody tr th {\n",
       "        vertical-align: top;\n",
       "    }\n",
       "\n",
       "    .dataframe thead th {\n",
       "        text-align: right;\n",
       "    }\n",
       "</style>\n",
       "<table border=\"1\" class=\"dataframe\">\n",
       "  <thead>\n",
       "    <tr style=\"text-align: right;\">\n",
       "      <th></th>\n",
       "      <th>production</th>\n",
       "      <th>ProducerPriceIndex</th>\n",
       "      <th>PeopleEmployed</th>\n",
       "      <th>RelativeImportanceWeights</th>\n",
       "      <th>EndUse-ImportPriceIndex</th>\n",
       "      <th>China  GDP Growth (%)</th>\n",
       "      <th>US GDP Growth (%)</th>\n",
       "    </tr>\n",
       "    <tr>\n",
       "      <th>year</th>\n",
       "      <th></th>\n",
       "      <th></th>\n",
       "      <th></th>\n",
       "      <th></th>\n",
       "      <th></th>\n",
       "      <th></th>\n",
       "      <th></th>\n",
       "    </tr>\n",
       "  </thead>\n",
       "  <tbody>\n",
       "    <tr>\n",
       "      <th>2008</th>\n",
       "      <td>1316.7456</td>\n",
       "      <td>66.266667</td>\n",
       "      <td>431.75</td>\n",
       "      <td>4.221858</td>\n",
       "      <td>110.183333</td>\n",
       "      <td>9.6507</td>\n",
       "      <td>-0.1366</td>\n",
       "    </tr>\n",
       "  </tbody>\n",
       "</table>\n",
       "</div>"
      ],
      "text/plain": [
       "      production  ProducerPriceIndex  PeopleEmployed  \\\n",
       "year                                                   \n",
       "2008   1316.7456           66.266667          431.75   \n",
       "\n",
       "      RelativeImportanceWeights  EndUse-ImportPriceIndex  \\\n",
       "year                                                       \n",
       "2008                   4.221858               110.183333   \n",
       "\n",
       "      China  GDP Growth (%)  US GDP Growth (%)  \n",
       "year                                            \n",
       "2008                 9.6507            -0.1366  "
      ]
     },
     "execution_count": 25,
     "metadata": {},
     "output_type": "execute_result"
    }
   ],
   "source": [
    "production_2008"
   ]
  },
  {
   "cell_type": "code",
   "execution_count": 26,
   "metadata": {},
   "outputs": [
    {
     "data": {
      "text/html": [
       "<div>\n",
       "<style scoped>\n",
       "    .dataframe tbody tr th:only-of-type {\n",
       "        vertical-align: middle;\n",
       "    }\n",
       "\n",
       "    .dataframe tbody tr th {\n",
       "        vertical-align: top;\n",
       "    }\n",
       "\n",
       "    .dataframe thead th {\n",
       "        text-align: right;\n",
       "    }\n",
       "</style>\n",
       "<table border=\"1\" class=\"dataframe\">\n",
       "  <thead>\n",
       "    <tr style=\"text-align: right;\">\n",
       "      <th></th>\n",
       "      <th>production</th>\n",
       "      <th>ProducerPriceIndex</th>\n",
       "      <th>PeopleEmployed</th>\n",
       "      <th>RelativeImportanceWeights</th>\n",
       "      <th>EndUse-ImportPriceIndex</th>\n",
       "      <th>China  GDP Growth (%)</th>\n",
       "      <th>US GDP Growth (%)</th>\n",
       "    </tr>\n",
       "    <tr>\n",
       "      <th>year</th>\n",
       "      <th></th>\n",
       "      <th></th>\n",
       "      <th></th>\n",
       "      <th></th>\n",
       "      <th></th>\n",
       "      <th></th>\n",
       "      <th></th>\n",
       "    </tr>\n",
       "  </thead>\n",
       "  <tbody>\n",
       "    <tr>\n",
       "      <th>2017</th>\n",
       "      <td>1199.9999</td>\n",
       "      <td>56.808333</td>\n",
       "      <td>362.158333</td>\n",
       "      <td>2.390467</td>\n",
       "      <td>112.991667</td>\n",
       "      <td>6.9472</td>\n",
       "      <td>2.3327</td>\n",
       "    </tr>\n",
       "    <tr>\n",
       "      <th>2018</th>\n",
       "      <td>1211.1503</td>\n",
       "      <td>55.975000</td>\n",
       "      <td>369.125000</td>\n",
       "      <td>2.279058</td>\n",
       "      <td>113.566667</td>\n",
       "      <td>6.7498</td>\n",
       "      <td>2.9965</td>\n",
       "    </tr>\n",
       "  </tbody>\n",
       "</table>\n",
       "</div>"
      ],
      "text/plain": [
       "      production  ProducerPriceIndex  PeopleEmployed  \\\n",
       "year                                                   \n",
       "2017   1199.9999           56.808333      362.158333   \n",
       "2018   1211.1503           55.975000      369.125000   \n",
       "\n",
       "      RelativeImportanceWeights  EndUse-ImportPriceIndex  \\\n",
       "year                                                       \n",
       "2017                   2.390467               112.991667   \n",
       "2018                   2.279058               113.566667   \n",
       "\n",
       "      China  GDP Growth (%)  US GDP Growth (%)  \n",
       "year                                            \n",
       "2017                 6.9472             2.3327  \n",
       "2018                 6.7498             2.9965  "
      ]
     },
     "execution_count": 26,
     "metadata": {},
     "output_type": "execute_result"
    }
   ],
   "source": [
    "production_between_2009_to_2018.tail(2)"
   ]
  },
  {
   "cell_type": "code",
   "execution_count": 27,
   "metadata": {},
   "outputs": [
    {
     "data": {
      "text/html": [
       "<div>\n",
       "<style scoped>\n",
       "    .dataframe tbody tr th:only-of-type {\n",
       "        vertical-align: middle;\n",
       "    }\n",
       "\n",
       "    .dataframe tbody tr th {\n",
       "        vertical-align: top;\n",
       "    }\n",
       "\n",
       "    .dataframe thead th {\n",
       "        text-align: right;\n",
       "    }\n",
       "</style>\n",
       "<table border=\"1\" class=\"dataframe\">\n",
       "  <thead>\n",
       "    <tr style=\"text-align: right;\">\n",
       "      <th></th>\n",
       "      <th>production</th>\n",
       "      <th>ProducerPriceIndex</th>\n",
       "      <th>PeopleEmployed</th>\n",
       "      <th>RelativeImportanceWeights</th>\n",
       "      <th>EndUse-ImportPriceIndex</th>\n",
       "      <th>China  GDP Growth (%)</th>\n",
       "      <th>US GDP Growth (%)</th>\n",
       "    </tr>\n",
       "    <tr>\n",
       "      <th>year</th>\n",
       "      <th></th>\n",
       "      <th></th>\n",
       "      <th></th>\n",
       "      <th></th>\n",
       "      <th></th>\n",
       "      <th></th>\n",
       "      <th></th>\n",
       "    </tr>\n",
       "  </thead>\n",
       "  <tbody>\n",
       "    <tr>\n",
       "      <th>2019</th>\n",
       "      <td>1185.2526</td>\n",
       "      <td>55.341667</td>\n",
       "      <td>375.975000</td>\n",
       "      <td>2.307908</td>\n",
       "      <td>113.850000</td>\n",
       "      <td>5.9497</td>\n",
       "      <td>2.1612</td>\n",
       "    </tr>\n",
       "    <tr>\n",
       "      <th>2020</th>\n",
       "      <td>1116.1598</td>\n",
       "      <td>54.766667</td>\n",
       "      <td>370.166667</td>\n",
       "      <td>2.375225</td>\n",
       "      <td>114.758333</td>\n",
       "      <td>2.3000</td>\n",
       "      <td>-3.4861</td>\n",
       "    </tr>\n",
       "  </tbody>\n",
       "</table>\n",
       "</div>"
      ],
      "text/plain": [
       "      production  ProducerPriceIndex  PeopleEmployed  \\\n",
       "year                                                   \n",
       "2019   1185.2526           55.341667      375.975000   \n",
       "2020   1116.1598           54.766667      370.166667   \n",
       "\n",
       "      RelativeImportanceWeights  EndUse-ImportPriceIndex  \\\n",
       "year                                                       \n",
       "2019                   2.307908               113.850000   \n",
       "2020                   2.375225               114.758333   \n",
       "\n",
       "      China  GDP Growth (%)  US GDP Growth (%)  \n",
       "year                                            \n",
       "2019                 5.9497             2.1612  \n",
       "2020                 2.3000            -3.4861  "
      ]
     },
     "execution_count": 27,
     "metadata": {},
     "output_type": "execute_result"
    }
   ],
   "source": [
    "production_2019_2020"
   ]
  },
  {
   "cell_type": "markdown",
   "metadata": {},
   "source": [
    "# Model Building\n"
   ]
  },
  {
   "cell_type": "code",
   "execution_count": 28,
   "metadata": {},
   "outputs": [],
   "source": [
    "# Get all the target for the different time\n",
    "y_before_2001 = production_before_2001[['production']]\n",
    "y_2001 = production_2001[['production']]\n",
    "y_between_2001_to_2007 = production_between_2001_to_2007[['production']]\n",
    "y_2008 = production_2008[['production']]\n",
    "y_between_2009_to_2018 = production_between_2009_to_2018[['production']]\n",
    "y_2019_2020 = production_2019_2020[['production']]\n"
   ]
  },
  {
   "cell_type": "markdown",
   "metadata": {},
   "source": [
    "## production_before_2001"
   ]
  },
  {
   "cell_type": "code",
   "execution_count": 29,
   "metadata": {},
   "outputs": [
    {
     "name": "stdout",
     "output_type": "stream",
     "text": [
      "                            OLS Regression Results                            \n",
      "==============================================================================\n",
      "Dep. Variable:             production   R-squared:                       0.990\n",
      "Model:                            OLS   Adj. R-squared:                  0.983\n",
      "Method:                 Least Squares   F-statistic:                     149.1\n",
      "Date:                Tue, 15 Mar 2022   Prob (F-statistic):           1.73e-08\n",
      "Time:                        22:32:24   Log-Likelihood:                -60.719\n",
      "No. Observations:                  16   AIC:                             135.4\n",
      "Df Residuals:                       9   BIC:                             140.8\n",
      "Df Model:                           6                                         \n",
      "Covariance Type:            nonrobust                                         \n",
      "=============================================================================================\n",
      "                                coef    std err          t      P>|t|      [0.025      0.975]\n",
      "---------------------------------------------------------------------------------------------\n",
      "const                      2032.5475    322.026      6.312      0.000    1304.074    2761.021\n",
      "ProducerPriceIndex          -15.5953      2.701     -5.774      0.000     -21.706      -9.485\n",
      "PeopleEmployed                0.1351      0.238      0.567      0.584      -0.404       0.674\n",
      "RelativeImportanceWeights   -21.3110     18.901     -1.127      0.289     -64.069      21.447\n",
      "EndUse-ImportPriceIndex       7.4726      1.305      5.728      0.000       4.521      10.424\n",
      "China  GDP Growth (%)        -3.4168      1.634     -2.092      0.066      -7.112       0.278\n",
      "US GDP Growth (%)            12.8116      4.813      2.662      0.026       1.923      23.700\n",
      "==============================================================================\n",
      "Omnibus:                        6.446   Durbin-Watson:                   1.997\n",
      "Prob(Omnibus):                  0.040   Jarque-Bera (JB):                3.616\n",
      "Skew:                          -1.087   Prob(JB):                        0.164\n",
      "Kurtosis:                       3.835   Cond. No.                     5.50e+04\n",
      "==============================================================================\n",
      "\n",
      "Notes:\n",
      "[1] Standard Errors assume that the covariance matrix of the errors is correctly specified.\n",
      "[2] The condition number is large, 5.5e+04. This might indicate that there are\n",
      "strong multicollinearity or other numerical problems.\n"
     ]
    },
    {
     "name": "stderr",
     "output_type": "stream",
     "text": [
      "C:\\Users\\gargk\\anaconda3\\lib\\site-packages\\statsmodels\\tsa\\tsatools.py:142: FutureWarning: In a future version of pandas all arguments of concat except for the argument 'objs' will be keyword-only\n",
      "  x = pd.concat(x[::order], 1)\n",
      "C:\\Users\\gargk\\anaconda3\\lib\\site-packages\\scipy\\stats\\stats.py:1541: UserWarning: kurtosistest only valid for n>=20 ... continuing anyway, n=16\n",
      "  warnings.warn(\"kurtosistest only valid for n>=20 ... continuing \"\n"
     ]
    }
   ],
   "source": [
    "# train Ordinary Least Squares model\n",
    "production_before_2001 = sm.add_constant(production_before_2001)\n",
    "model_before_2001 = sm.OLS(y_before_2001, production_before_2001.drop(['production'], axis = 1))\n",
    "result_before_2001 = model_before_2001.fit()\n",
    "\n",
    "print(result_before_2001.summary())"
   ]
  },
  {
   "cell_type": "markdown",
   "metadata": {},
   "source": [
    "### Drop the variable with big P_value: \n",
    "#### 'PeopleEmployed', 'RelativeImportanceWeights'"
   ]
  },
  {
   "cell_type": "code",
   "execution_count": 30,
   "metadata": {},
   "outputs": [
    {
     "name": "stdout",
     "output_type": "stream",
     "text": [
      "                            OLS Regression Results                            \n",
      "==============================================================================\n",
      "Dep. Variable:             production   R-squared:                       0.989\n",
      "Model:                            OLS   Adj. R-squared:                  0.984\n",
      "Method:                 Least Squares   F-statistic:                     239.1\n",
      "Date:                Tue, 15 Mar 2022   Prob (F-statistic):           1.30e-10\n",
      "Time:                        22:32:24   Log-Likelihood:                -61.776\n",
      "No. Observations:                  16   AIC:                             133.6\n",
      "Df Residuals:                      11   BIC:                             137.4\n",
      "Df Model:                           4                                         \n",
      "Covariance Type:            nonrobust                                         \n",
      "===========================================================================================\n",
      "                              coef    std err          t      P>|t|      [0.025      0.975]\n",
      "-------------------------------------------------------------------------------------------\n",
      "const                    1865.1722     98.260     18.982      0.000    1648.902    2081.442\n",
      "ProducerPriceIndex        -12.9828      0.813    -15.965      0.000     -14.773     -11.193\n",
      "EndUse-ImportPriceIndex     6.0950      0.332     18.366      0.000       5.365       6.825\n",
      "China  GDP Growth (%)      -3.9445      1.248     -3.162      0.009      -6.690      -1.198\n",
      "US GDP Growth (%)          10.2213      3.797      2.692      0.021       1.865      18.577\n",
      "==============================================================================\n",
      "Omnibus:                        3.967   Durbin-Watson:                   1.889\n",
      "Prob(Omnibus):                  0.138   Jarque-Bera (JB):                2.051\n",
      "Skew:                          -0.857   Prob(JB):                        0.359\n",
      "Kurtosis:                       3.372   Cond. No.                     4.02e+03\n",
      "==============================================================================\n",
      "\n",
      "Notes:\n",
      "[1] Standard Errors assume that the covariance matrix of the errors is correctly specified.\n",
      "[2] The condition number is large, 4.02e+03. This might indicate that there are\n",
      "strong multicollinearity or other numerical problems.\n"
     ]
    },
    {
     "name": "stderr",
     "output_type": "stream",
     "text": [
      "C:\\Users\\gargk\\anaconda3\\lib\\site-packages\\scipy\\stats\\stats.py:1541: UserWarning: kurtosistest only valid for n>=20 ... continuing anyway, n=16\n",
      "  warnings.warn(\"kurtosistest only valid for n>=20 ... continuing \"\n"
     ]
    }
   ],
   "source": [
    "model_before_2001 = sm.OLS(y_before_2001, production_before_2001.drop(['production', 'PeopleEmployed', 'RelativeImportanceWeights'], axis = 1))\n",
    "result_before_2001 = model_before_2001.fit()\n",
    "\n",
    "print(result_before_2001.summary())"
   ]
  },
  {
   "cell_type": "code",
   "execution_count": 31,
   "metadata": {},
   "outputs": [
    {
     "name": "stderr",
     "output_type": "stream",
     "text": [
      "C:\\Users\\gargk\\anaconda3\\lib\\site-packages\\statsmodels\\tsa\\tsatools.py:142: FutureWarning: In a future version of pandas all arguments of concat except for the argument 'objs' will be keyword-only\n",
      "  x = pd.concat(x[::order], 1)\n"
     ]
    },
    {
     "data": {
      "text/plain": [
       "year\n",
       "2001    1323.585914\n",
       "dtype: float64"
      ]
     },
     "execution_count": 31,
     "metadata": {},
     "output_type": "execute_result"
    }
   ],
   "source": [
    "x_2001_pred = sm.add_constant(production_2001.drop(['production', 'PeopleEmployed', 'RelativeImportanceWeights'], axis = 1), has_constant='add')\n",
    "y_2001_pred = result_before_2001.predict(x_2001_pred)\n",
    "y_2001_pred"
   ]
  },
  {
   "cell_type": "code",
   "execution_count": 32,
   "metadata": {},
   "outputs": [
    {
     "data": {
      "text/plain": [
       "[<matplotlib.lines.Line2D at 0x2200ac08ca0>]"
      ]
     },
     "execution_count": 32,
     "metadata": {},
     "output_type": "execute_result"
    },
    {
     "data": {
      "image/png": "[encoded data removed]",
      "text/plain": [
       "<Figure size 720x360 with 1 Axes>"
      ]
     },
     "metadata": {
      "needs_background": "light"
     },
     "output_type": "display_data"
    }
   ],
   "source": [
    "# Series \n",
    "\n",
    "series1 = pd.concat([y_before_2001, y_2001], ignore_index=True)\n",
    "series2 = pd.concat([y_before_2001, pd.DataFrame(y_2001_pred, columns = ['production'])], ignore_index=True)\n",
    "\n",
    "series1 = series1.join(pd.DataFrame(range(1985,2002)))\n",
    "series1 = series1.rename(columns = {0: 'year'})\n",
    "series1 = series1.set_index('year')\n",
    "\n",
    "series2 = series2.join(pd.DataFrame(range(1985,2002)))\n",
    "series2 = series2.rename(columns = {0: 'year'})\n",
    "series2 = series2.set_index('year')\n",
    "\n",
    "plt.figure(figsize=(10, 5))\n",
    "plt.xlim(1985, 2002)\n",
    "plt.xlabel('year')\n",
    "plt.ylabel('production')\n",
    "plt.plot(series1)\n",
    "plt.plot(series2)"
   ]
  },
  {
   "cell_type": "code",
   "execution_count": 33,
   "metadata": {
    "scrolled": true
   },
   "outputs": [
    {
     "name": "stdout",
     "output_type": "stream",
     "text": [
      "Predicted vs Actual Difference:  42.236414069942384\n"
     ]
    }
   ],
   "source": [
    "print(\"Predicted vs Actual Difference: \", \n",
    "      pd.DataFrame(y_2001_pred).iloc[0][0] - y_2001.iloc[0][0])"
   ]
  },
  {
   "cell_type": "markdown",
   "metadata": {},
   "source": [
    "### VAR model"
   ]
  },
  {
   "cell_type": "code",
   "execution_count": 34,
   "metadata": {},
   "outputs": [
    {
     "data": {
      "text/html": [
       "<div>\n",
       "<style scoped>\n",
       "    .dataframe tbody tr th:only-of-type {\n",
       "        vertical-align: middle;\n",
       "    }\n",
       "\n",
       "    .dataframe tbody tr th {\n",
       "        vertical-align: top;\n",
       "    }\n",
       "\n",
       "    .dataframe thead th {\n",
       "        text-align: right;\n",
       "    }\n",
       "</style>\n",
       "<table border=\"1\" class=\"dataframe\">\n",
       "  <thead>\n",
       "    <tr style=\"text-align: right;\">\n",
       "      <th></th>\n",
       "      <th>production</th>\n",
       "      <th>EndUse-ImportPriceIndex</th>\n",
       "      <th>China  GDP Growth (%)</th>\n",
       "      <th>US GDP Growth (%)</th>\n",
       "    </tr>\n",
       "    <tr>\n",
       "      <th>year</th>\n",
       "      <th></th>\n",
       "      <th></th>\n",
       "      <th></th>\n",
       "      <th></th>\n",
       "    </tr>\n",
       "  </thead>\n",
       "  <tbody>\n",
       "    <tr>\n",
       "      <th>1985</th>\n",
       "      <td>986.3140</td>\n",
       "      <td>71.300</td>\n",
       "      <td>13.4307</td>\n",
       "      <td>4.1697</td>\n",
       "    </tr>\n",
       "    <tr>\n",
       "      <th>1986</th>\n",
       "      <td>1010.2932</td>\n",
       "      <td>80.100</td>\n",
       "      <td>8.9500</td>\n",
       "      <td>3.4627</td>\n",
       "    </tr>\n",
       "    <tr>\n",
       "      <th>1987</th>\n",
       "      <td>1057.8092</td>\n",
       "      <td>88.825</td>\n",
       "      <td>11.6574</td>\n",
       "      <td>3.4596</td>\n",
       "    </tr>\n",
       "    <tr>\n",
       "      <th>1988</th>\n",
       "      <td>1104.2269</td>\n",
       "      <td>94.875</td>\n",
       "      <td>11.2226</td>\n",
       "      <td>4.1770</td>\n",
       "    </tr>\n",
       "    <tr>\n",
       "      <th>1989</th>\n",
       "      <td>1111.1314</td>\n",
       "      <td>95.925</td>\n",
       "      <td>4.2063</td>\n",
       "      <td>3.6727</td>\n",
       "    </tr>\n",
       "  </tbody>\n",
       "</table>\n",
       "</div>"
      ],
      "text/plain": [
       "      production  EndUse-ImportPriceIndex  China  GDP Growth (%)  \\\n",
       "year                                                               \n",
       "1985    986.3140                   71.300                13.4307   \n",
       "1986   1010.2932                   80.100                 8.9500   \n",
       "1987   1057.8092                   88.825                11.6574   \n",
       "1988   1104.2269                   94.875                11.2226   \n",
       "1989   1111.1314                   95.925                 4.2063   \n",
       "\n",
       "      US GDP Growth (%)  \n",
       "year                     \n",
       "1985             4.1697  \n",
       "1986             3.4627  \n",
       "1987             3.4596  \n",
       "1988             4.1770  \n",
       "1989             3.6727  "
      ]
     },
     "execution_count": 34,
     "metadata": {},
     "output_type": "execute_result"
    }
   ],
   "source": [
    "df_train= production_before_2001.drop(['const', 'ProducerPriceIndex', \n",
    "                                       'PeopleEmployed', \n",
    "                                       'RelativeImportanceWeights'], axis = 1)\n",
    "df_train.head()"
   ]
  },
  {
   "cell_type": "code",
   "execution_count": 35,
   "metadata": {},
   "outputs": [
    {
     "name": "stdout",
     "output_type": "stream",
     "text": [
      "    Augmented Dickey-Fuller Test on \"production\" \n",
      "    -----------------------------------------------\n",
      " Null Hypothesis: Data has unit root. Non-Stationary.\n",
      " Significance Level    = 0.05\n",
      " Test Statistic        = 1.3004\n",
      " No. Lags Chosen       = 6\n",
      " Critical value 1%     = -4.473\n",
      " Critical value 5%     = -3.29\n",
      " Critical value 10%    = -2.772\n",
      " => P-Value = 0.9966. Weak evidence to reject the Null Hypothesis.\n",
      " => Series is Non-Stationary.\n",
      "\n",
      "\n",
      "    Augmented Dickey-Fuller Test on \"EndUse-ImportPriceIndex\" \n",
      "    -----------------------------------------------\n",
      " Null Hypothesis: Data has unit root. Non-Stationary.\n",
      " Significance Level    = 0.05\n",
      " Test Statistic        = -7.7263\n",
      " No. Lags Chosen       = 6\n",
      " Critical value 1%     = -4.473\n",
      " Critical value 5%     = -3.29\n",
      " Critical value 10%    = -2.772\n",
      " => P-Value = 0.0. Rejecting Null Hypothesis.\n",
      " => Series is Stationary.\n",
      "\n",
      "\n",
      "    Augmented Dickey-Fuller Test on \"China  GDP Growth (%)\" \n",
      "    -----------------------------------------------\n",
      " Null Hypothesis: Data has unit root. Non-Stationary.\n",
      " Significance Level    = 0.05\n",
      " Test Statistic        = -4.5797\n",
      " No. Lags Chosen       = 4\n",
      " Critical value 1%     = -4.223\n",
      " Critical value 5%     = -3.189\n",
      " Critical value 10%    = -2.73\n",
      " => P-Value = 0.0001. Rejecting Null Hypothesis.\n",
      " => Series is Stationary.\n",
      "\n",
      "\n",
      "    Augmented Dickey-Fuller Test on \"US GDP Growth (%)\" \n",
      "    -----------------------------------------------\n",
      " Null Hypothesis: Data has unit root. Non-Stationary.\n",
      " Significance Level    = 0.05\n",
      " Test Statistic        = -4.109\n",
      " No. Lags Chosen       = 6\n",
      " Critical value 1%     = -4.473\n",
      " Critical value 5%     = -3.29\n",
      " Critical value 10%    = -2.772\n",
      " => P-Value = 0.0009. Rejecting Null Hypothesis.\n",
      " => Series is Stationary.\n",
      "\n",
      "\n"
     ]
    }
   ],
   "source": [
    "def adfuller_test(series, signif=0.05, name='', verbose=False):\n",
    "    \"\"\"Perform ADFuller to test for Stationarity of given series and print report\"\"\"\n",
    "    r = adfuller(series, autolag='AIC')\n",
    "    output = {'test_statistic':round(r[0], 4), 'pvalue':round(r[1], 4), 'n_lags':round(r[2], 4), 'n_obs':r[3]}\n",
    "    p_value = output['pvalue'] \n",
    "    def adjust(val, length= 6): return str(val).ljust(length)\n",
    "\n",
    "    # Print Summary\n",
    "    print(f'    Augmented Dickey-Fuller Test on \"{name}\"', \"\\n   \", '-'*47)\n",
    "    print(f' Null Hypothesis: Data has unit root. Non-Stationary.')\n",
    "    print(f' Significance Level    = {signif}')\n",
    "    print(f' Test Statistic        = {output[\"test_statistic\"]}')\n",
    "    print(f' No. Lags Chosen       = {output[\"n_lags\"]}')\n",
    "\n",
    "    for key,val in r[4].items():\n",
    "        print(f' Critical value {adjust(key)} = {round(val, 3)}')\n",
    "\n",
    "    if p_value <= signif:\n",
    "        print(f\" => P-Value = {p_value}. Rejecting Null Hypothesis.\")\n",
    "        print(f\" => Series is Stationary.\")\n",
    "    else:\n",
    "        print(f\" => P-Value = {p_value}. Weak evidence to reject the Null Hypothesis.\")\n",
    "        print(f\" => Series is Non-Stationary.\")    \n",
    "\n",
    "for name, column in df_train.iteritems():\n",
    "    adfuller_test(column, name=column.name)\n",
    "    print('\\n')"
   ]
  },
  {
   "cell_type": "code",
   "execution_count": 36,
   "metadata": {},
   "outputs": [
    {
     "name": "stdout",
     "output_type": "stream",
     "text": [
      "Lag Order = 1\n",
      "AIC :  7.910363930076546\n",
      "BIC :  8.854430864879493\n",
      "FPE :  3029.9033055960285\n",
      "HQIC:  7.900307644613598 \n",
      "\n",
      "Lag Order = 2\n",
      "AIC :  8.301862084982098\n",
      "BIC :  9.945152361135621\n",
      "FPE :  10543.13436641706\n",
      "HQIC:  8.149745531551403 \n",
      "\n"
     ]
    },
    {
     "name": "stderr",
     "output_type": "stream",
     "text": [
      "C:\\Users\\gargk\\anaconda3\\lib\\site-packages\\statsmodels\\tsa\\base\\tsa_model.py:578: ValueWarning: An unsupported index was provided and will be ignored when e.g. forecasting.\n",
      "  warnings.warn('An unsupported index was provided and will be'\n"
     ]
    }
   ],
   "source": [
    "model = VAR(df_train)\n",
    "for i in [1,2]:\n",
    "    result = model.fit(i)\n",
    "    print('Lag Order =', i)\n",
    "    print('AIC : ', result.aic)\n",
    "    print('BIC : ', result.bic)\n",
    "    print('FPE : ', result.fpe)\n",
    "    print('HQIC: ', result.hqic, '\\n')"
   ]
  },
  {
   "cell_type": "code",
   "execution_count": 37,
   "metadata": {},
   "outputs": [
    {
     "data": {
      "text/html": [
       "<table class=\"simpletable\">\n",
       "<caption>VAR Order Selection (* highlights the minimums)</caption>\n",
       "<tr>\n",
       "  <td></td>      <th>AIC</th>         <th>BIC</th>         <th>FPE</th>        <th>HQIC</th>    \n",
       "</tr>\n",
       "<tr>\n",
       "  <th>0</th> <td>     14.95</td>  <td>     15.13</td>  <td> 3.110e+06</td>  <td>     14.93</td> \n",
       "</tr>\n",
       "<tr>\n",
       "  <th>1</th> <td>     7.522*</td> <td>     8.435*</td> <td>     2108.*</td> <td>     7.437*</td>\n",
       "</tr>\n",
       "<tr>\n",
       "  <th>2</th> <td>     8.302</td>  <td>     9.945</td>  <td> 1.054e+04</td>  <td>     8.150</td> \n",
       "</tr>\n",
       "</table>"
      ],
      "text/plain": [
       "<class 'statsmodels.iolib.table.SimpleTable'>"
      ]
     },
     "execution_count": 37,
     "metadata": {},
     "output_type": "execute_result"
    }
   ],
   "source": [
    "x = model.select_order(maxlags=2)\n",
    "x.summary()"
   ]
  },
  {
   "cell_type": "code",
   "execution_count": 38,
   "metadata": {
    "scrolled": true
   },
   "outputs": [
    {
     "data": {
      "text/plain": [
       "  Summary of Regression Results   \n",
       "==================================\n",
       "Model:                         VAR\n",
       "Method:                        OLS\n",
       "Date:           Tue, 15, Mar, 2022\n",
       "Time:                     22:32:24\n",
       "--------------------------------------------------------------------\n",
       "No. of Equations:         4.00000    BIC:                    8.85443\n",
       "Nobs:                     15.0000    HQIC:                   7.90031\n",
       "Log likelihood:          -124.464    FPE:                    3029.90\n",
       "AIC:                      7.91036    Det(Omega_mle):         958.680\n",
       "--------------------------------------------------------------------\n",
       "Results for equation production\n",
       "=============================================================================================\n",
       "                                coefficient       std. error           t-stat            prob\n",
       "---------------------------------------------------------------------------------------------\n",
       "const                            -17.468530        76.480708           -0.228           0.819\n",
       "L1.production                      0.989935         0.118378            8.362           0.000\n",
       "L1.EndUse-ImportPriceIndex         0.091761         0.964092            0.095           0.924\n",
       "L1.China  GDP Growth (%)           3.497514         2.167805            1.613           0.107\n",
       "L1.US GDP Growth (%)               2.549688         6.934781            0.368           0.713\n",
       "=============================================================================================\n",
       "\n",
       "Results for equation EndUse-ImportPriceIndex\n",
       "=============================================================================================\n",
       "                                coefficient       std. error           t-stat            prob\n",
       "---------------------------------------------------------------------------------------------\n",
       "const                             41.113243         6.878557            5.977           0.000\n",
       "L1.production                     -0.020883         0.010647           -1.961           0.050\n",
       "L1.EndUse-ImportPriceIndex         0.845137         0.086709            9.747           0.000\n",
       "L1.China  GDP Growth (%)           0.019643         0.194969            0.101           0.920\n",
       "L1.US GDP Growth (%)              -0.009218         0.623704           -0.015           0.988\n",
       "=============================================================================================\n",
       "\n",
       "Results for equation China  GDP Growth (%)\n",
       "=============================================================================================\n",
       "                                coefficient       std. error           t-stat            prob\n",
       "---------------------------------------------------------------------------------------------\n",
       "const                              3.592560         7.644155            0.470           0.638\n",
       "L1.production                      0.010643         0.011832            0.900           0.368\n",
       "L1.EndUse-ImportPriceIndex        -0.061338         0.096360           -0.637           0.524\n",
       "L1.China  GDP Growth (%)           0.648453         0.216670            2.993           0.003\n",
       "L1.US GDP Growth (%)              -1.929872         0.693123           -2.784           0.005\n",
       "=============================================================================================\n",
       "\n",
       "Results for equation US GDP Growth (%)\n",
       "=============================================================================================\n",
       "                                coefficient       std. error           t-stat            prob\n",
       "---------------------------------------------------------------------------------------------\n",
       "const                             -6.478352         3.227078           -2.007           0.045\n",
       "L1.production                      0.013946         0.004995            2.792           0.005\n",
       "L1.EndUse-ImportPriceIndex        -0.082069         0.040680           -2.017           0.044\n",
       "L1.China  GDP Growth (%)           0.291242         0.091470            3.184           0.001\n",
       "L1.US GDP Growth (%)              -0.270157         0.292611           -0.923           0.356\n",
       "=============================================================================================\n",
       "\n",
       "Correlation matrix of residuals\n",
       "                           production  EndUse-ImportPriceIndex  China  GDP Growth (%)  US GDP Growth (%)\n",
       "production                   1.000000                -0.184182               0.314787           0.750869\n",
       "EndUse-ImportPriceIndex     -0.184182                 1.000000               0.441825          -0.347535\n",
       "China  GDP Growth (%)        0.314787                 0.441825               1.000000          -0.208445\n",
       "US GDP Growth (%)            0.750869                -0.347535              -0.208445           1.000000\n",
       "\n"
      ]
     },
     "execution_count": 38,
     "metadata": {},
     "output_type": "execute_result"
    }
   ],
   "source": [
    "model_fitted = model.fit(1)\n",
    "model_fitted.summary()"
   ]
  },
  {
   "cell_type": "code",
   "execution_count": 39,
   "metadata": {},
   "outputs": [
    {
     "data": {
      "text/html": [
       "<div>\n",
       "<style scoped>\n",
       "    .dataframe tbody tr th:only-of-type {\n",
       "        vertical-align: middle;\n",
       "    }\n",
       "\n",
       "    .dataframe tbody tr th {\n",
       "        vertical-align: top;\n",
       "    }\n",
       "\n",
       "    .dataframe thead th {\n",
       "        text-align: right;\n",
       "    }\n",
       "</style>\n",
       "<table border=\"1\" class=\"dataframe\">\n",
       "  <thead>\n",
       "    <tr style=\"text-align: right;\">\n",
       "      <th></th>\n",
       "      <th>production</th>\n",
       "      <th>EndUse-ImportPriceIndex</th>\n",
       "      <th>China  GDP Growth (%)</th>\n",
       "      <th>US GDP Growth (%)</th>\n",
       "    </tr>\n",
       "  </thead>\n",
       "  <tbody>\n",
       "    <tr>\n",
       "      <th>2001</th>\n",
       "      <td>1358.513464</td>\n",
       "      <td>97.778542</td>\n",
       "      <td>9.260712</td>\n",
       "      <td>5.360551</td>\n",
       "    </tr>\n",
       "  </tbody>\n",
       "</table>\n",
       "</div>"
      ],
      "text/plain": [
       "       production  EndUse-ImportPriceIndex  China  GDP Growth (%)  \\\n",
       "2001  1358.513464                97.778542               9.260712   \n",
       "\n",
       "      US GDP Growth (%)  \n",
       "2001           5.360551  "
      ]
     },
     "execution_count": 39,
     "metadata": {},
     "output_type": "execute_result"
    }
   ],
   "source": [
    "lag_order = model_fitted.k_ar\n",
    "# Input data for forecasting\n",
    "forecast_input = df_train.values[-lag_order:]\n",
    "nobs = 1\n",
    "fc = model_fitted.forecast(y=forecast_input, steps=nobs)\n",
    "df_forecast = pd.DataFrame(fc, index=[2001], columns=df_train.columns)\n",
    "df_forecast"
   ]
  },
  {
   "cell_type": "code",
   "execution_count": 40,
   "metadata": {
    "scrolled": true
   },
   "outputs": [
    {
     "data": {
      "text/plain": [
       "[<matplotlib.lines.Line2D at 0x2200acb2220>]"
      ]
     },
     "execution_count": 40,
     "metadata": {},
     "output_type": "execute_result"
    },
    {
     "data": {
      "image/png": "[encoded data removed]",
      "text/plain": [
       "<Figure size 720x360 with 1 Axes>"
      ]
     },
     "metadata": {
      "needs_background": "light"
     },
     "output_type": "display_data"
    }
   ],
   "source": [
    "# Series\n",
    "y_2001_pred = df_forecast['production']\n",
    "series1 = pd.concat([y_before_2001, y_2001], ignore_index=True)\n",
    "series2 = pd.concat([y_before_2001, pd.DataFrame(y_2001_pred, columns = ['production'])], ignore_index=True)\n",
    "\n",
    "series1 = series1.join(pd.DataFrame(range(1985,2002)))\n",
    "series1 = series1.rename(columns = {0: 'year'})\n",
    "series1 = series1.set_index('year')\n",
    "\n",
    "series2 = series2.join(pd.DataFrame(range(1985,2002)))\n",
    "series2 = series2.rename(columns = {0: 'year'})\n",
    "series2 = series2.set_index('year')\n",
    "plt.figure(figsize=(10, 5))\n",
    "plt.xlim(1985, 2002)\n",
    "plt.xlabel('year')\n",
    "plt.ylabel('production_2d')\n",
    "plt.plot(series1)\n",
    "plt.plot(series2)"
   ]
  },
  {
   "cell_type": "code",
   "execution_count": 41,
   "metadata": {
    "scrolled": true
   },
   "outputs": [
    {
     "name": "stdout",
     "output_type": "stream",
     "text": [
      "Predicted vs Actual Difference:  77.1639642381308\n"
     ]
    }
   ],
   "source": [
    "print(\"Predicted vs Actual Difference: \", \n",
    "      pd.DataFrame(y_2001_pred).iloc[0][0] - y_2001.iloc[0][0])"
   ]
  },
  {
   "cell_type": "markdown",
   "metadata": {},
   "source": [
    "The model performs as expected as this model tries to forecast the trend of semiconductor production without the impact of the dotcom burst of 2001"
   ]
  },
  {
   "cell_type": "markdown",
   "metadata": {},
   "source": [
    "### Random Forest"
   ]
  },
  {
   "cell_type": "code",
   "execution_count": 42,
   "metadata": {
    "scrolled": true
   },
   "outputs": [
    {
     "data": {
      "text/html": [
       "<div>\n",
       "<style scoped>\n",
       "    .dataframe tbody tr th:only-of-type {\n",
       "        vertical-align: middle;\n",
       "    }\n",
       "\n",
       "    .dataframe tbody tr th {\n",
       "        vertical-align: top;\n",
       "    }\n",
       "\n",
       "    .dataframe thead th {\n",
       "        text-align: right;\n",
       "    }\n",
       "</style>\n",
       "<table border=\"1\" class=\"dataframe\">\n",
       "  <thead>\n",
       "    <tr style=\"text-align: right;\">\n",
       "      <th></th>\n",
       "      <th>production</th>\n",
       "      <th>ProducerPriceIndex</th>\n",
       "      <th>EndUse-ImportPriceIndex</th>\n",
       "      <th>China  GDP Growth (%)</th>\n",
       "      <th>US GDP Growth (%)</th>\n",
       "    </tr>\n",
       "    <tr>\n",
       "      <th>year</th>\n",
       "      <th></th>\n",
       "      <th></th>\n",
       "      <th></th>\n",
       "      <th></th>\n",
       "      <th></th>\n",
       "    </tr>\n",
       "  </thead>\n",
       "  <tbody>\n",
       "    <tr>\n",
       "      <th>1985</th>\n",
       "      <td>986.3140</td>\n",
       "      <td>100.525000</td>\n",
       "      <td>71.300</td>\n",
       "      <td>13.4307</td>\n",
       "      <td>4.1697</td>\n",
       "    </tr>\n",
       "    <tr>\n",
       "      <th>1986</th>\n",
       "      <td>1010.2932</td>\n",
       "      <td>102.441667</td>\n",
       "      <td>80.100</td>\n",
       "      <td>8.9500</td>\n",
       "      <td>3.4627</td>\n",
       "    </tr>\n",
       "    <tr>\n",
       "      <th>1987</th>\n",
       "      <td>1057.8092</td>\n",
       "      <td>102.633333</td>\n",
       "      <td>88.825</td>\n",
       "      <td>11.6574</td>\n",
       "      <td>3.4596</td>\n",
       "    </tr>\n",
       "    <tr>\n",
       "      <th>1988</th>\n",
       "      <td>1104.2269</td>\n",
       "      <td>104.033333</td>\n",
       "      <td>94.875</td>\n",
       "      <td>11.2226</td>\n",
       "      <td>4.1770</td>\n",
       "    </tr>\n",
       "    <tr>\n",
       "      <th>1989</th>\n",
       "      <td>1111.1314</td>\n",
       "      <td>105.108333</td>\n",
       "      <td>95.925</td>\n",
       "      <td>4.2063</td>\n",
       "      <td>3.6727</td>\n",
       "    </tr>\n",
       "  </tbody>\n",
       "</table>\n",
       "</div>"
      ],
      "text/plain": [
       "      production  ProducerPriceIndex  EndUse-ImportPriceIndex  \\\n",
       "year                                                            \n",
       "1985    986.3140          100.525000                   71.300   \n",
       "1986   1010.2932          102.441667                   80.100   \n",
       "1987   1057.8092          102.633333                   88.825   \n",
       "1988   1104.2269          104.033333                   94.875   \n",
       "1989   1111.1314          105.108333                   95.925   \n",
       "\n",
       "      China  GDP Growth (%)  US GDP Growth (%)  \n",
       "year                                            \n",
       "1985                13.4307             4.1697  \n",
       "1986                 8.9500             3.4627  \n",
       "1987                11.6574             3.4596  \n",
       "1988                11.2226             4.1770  \n",
       "1989                 4.2063             3.6727  "
      ]
     },
     "execution_count": 42,
     "metadata": {},
     "output_type": "execute_result"
    }
   ],
   "source": [
    "train = production_before_2001.drop(['const', 'PeopleEmployed', \n",
    "                                     'RelativeImportanceWeights'], axis = 1)\n",
    "\n",
    "train.head()"
   ]
  },
  {
   "cell_type": "code",
   "execution_count": 43,
   "metadata": {},
   "outputs": [],
   "source": [
    "train_features = train.iloc[:,1:]\n",
    "train_labels = train.iloc[:,0]\n",
    "test_features = production_2001[train_features.columns]"
   ]
  },
  {
   "cell_type": "code",
   "execution_count": 44,
   "metadata": {},
   "outputs": [
    {
     "data": {
      "text/plain": [
       "RandomForestRegressor(n_estimators=1000, random_state=42)"
      ]
     },
     "execution_count": 44,
     "metadata": {},
     "output_type": "execute_result"
    }
   ],
   "source": [
    "# Import the model we are using\n",
    "from sklearn.ensemble import RandomForestRegressor\n",
    "# Instantiate model with 1000 decision trees\n",
    "rf = RandomForestRegressor(n_estimators = 1000, random_state = 42)\n",
    "# Train the model on training data\n",
    "rf.fit(train_features, train_labels)"
   ]
  },
  {
   "cell_type": "code",
   "execution_count": 45,
   "metadata": {},
   "outputs": [],
   "source": [
    "# Use the forest's predict method on the test data\n",
    "predictions = rf.predict(test_features)"
   ]
  },
  {
   "cell_type": "code",
   "execution_count": 46,
   "metadata": {},
   "outputs": [
    {
     "data": {
      "text/plain": [
       "[<matplotlib.lines.Line2D at 0x2200b63ad30>]"
      ]
     },
     "execution_count": 46,
     "metadata": {},
     "output_type": "execute_result"
    },
    {
     "data": {
      "image/png": "[encoded data removed]",
      "text/plain": [
       "<Figure size 720x360 with 1 Axes>"
      ]
     },
     "metadata": {
      "needs_background": "light"
     },
     "output_type": "display_data"
    }
   ],
   "source": [
    "# Series \n",
    "series1 = pd.concat([y_before_2001, y_2001], ignore_index=True)\n",
    "series2 = pd.concat([y_before_2001, pd.DataFrame(predictions, columns = ['production'])], ignore_index=True)\n",
    "\n",
    "series1 = series1.join(pd.DataFrame(range(1985,2002)))\n",
    "series1 = series1.rename(columns = {0: 'year'})\n",
    "series1 = series1.set_index('year')\n",
    "\n",
    "series2 = series2.join(pd.DataFrame(range(1985,2002)))\n",
    "series2 = series2.rename(columns = {0: 'year'})\n",
    "series2 = series2.set_index('year')\n",
    "\n",
    "plt.figure(figsize=(10, 5))\n",
    "plt.xlim(1985, 2002)\n",
    "plt.xlabel('year')\n",
    "plt.ylabel('production_2d')\n",
    "plt.plot(series1)\n",
    "plt.plot(series2)"
   ]
  },
  {
   "cell_type": "markdown",
   "metadata": {},
   "source": [
    "Here, we can see that the model is overfitting as the predicted value is very close to the actual value."
   ]
  },
  {
   "cell_type": "code",
   "execution_count": 47,
   "metadata": {},
   "outputs": [
    {
     "name": "stdout",
     "output_type": "stream",
     "text": [
      "Variable: ProducerPriceIndex   Importance: 0.68\n",
      "Variable: EndUse-ImportPriceIndex Importance: 0.21\n",
      "Variable: US GDP Growth (%)    Importance: 0.08\n",
      "Variable: China  GDP Growth (%) Importance: 0.03\n"
     ]
    }
   ],
   "source": [
    "feature_list = list(train_features.columns)\n",
    "\n",
    "# Get numerical feature importances\n",
    "importances = list(rf.feature_importances_)\n",
    "# List of tuples with variable and importance\n",
    "feature_importances = [(feature, round(importance, 2)) for feature, importance in zip(feature_list, importances)]\n",
    "# Sort the feature importances by most important first\n",
    "feature_importances = sorted(feature_importances, key = lambda x: x[1], reverse = True)\n",
    "# Print out the feature and importances \n",
    "[print('Variable: {:20} Importance: {}'.format(*pair)) for pair in feature_importances];"
   ]
  },
  {
   "cell_type": "markdown",
   "metadata": {},
   "source": [
    "### Here, again the ProducerPriceIndex ,EndUse-ImportPriceIndex and US GDP Growth (%) come as top features for our model which validates our hypothesis from the OLS model.\n",
    "\n",
    "So, we choose the OLS model as it performs the best for our use case."
   ]
  },
  {
   "cell_type": "markdown",
   "metadata": {},
   "source": [
    "## production_between_2001_to_2007"
   ]
  },
  {
   "cell_type": "code",
   "execution_count": 48,
   "metadata": {},
   "outputs": [
    {
     "name": "stdout",
     "output_type": "stream",
     "text": [
      "                            OLS Regression Results                            \n",
      "==============================================================================\n",
      "Dep. Variable:             production   R-squared:                       0.983\n",
      "Model:                            OLS   Adj. R-squared:                  0.949\n",
      "Method:                 Least Squares   F-statistic:                     28.93\n",
      "Date:                Tue, 15 Mar 2022   Prob (F-statistic):             0.0337\n",
      "Time:                        22:32:25   Log-Likelihood:                -22.049\n",
      "No. Observations:                   7   AIC:                             54.10\n",
      "Df Residuals:                       2   BIC:                             53.83\n",
      "Df Model:                           4                                         \n",
      "Covariance Type:            nonrobust                                         \n",
      "===========================================================================================\n",
      "                              coef    std err          t      P>|t|      [0.025      0.975]\n",
      "-------------------------------------------------------------------------------------------\n",
      "const                   -1188.9250    965.128     -1.232      0.343   -5341.537    2963.687\n",
      "ProducerPriceIndex          7.4640      5.766      1.294      0.325     -17.346      32.274\n",
      "EndUse-ImportPriceIndex    17.0088      5.358      3.175      0.087      -6.043      40.061\n",
      "China  GDP Growth (%)      16.0847     12.300      1.308      0.321     -36.839      69.009\n",
      "US GDP Growth (%)          13.0608      9.345      1.398      0.297     -27.146      53.267\n",
      "==============================================================================\n",
      "Omnibus:                          nan   Durbin-Watson:                   3.266\n",
      "Prob(Omnibus):                    nan   Jarque-Bera (JB):                0.168\n",
      "Skew:                          -0.371   Prob(JB):                        0.919\n",
      "Kurtosis:                       2.840   Cond. No.                     3.10e+04\n",
      "==============================================================================\n",
      "\n",
      "Notes:\n",
      "[1] Standard Errors assume that the covariance matrix of the errors is correctly specified.\n",
      "[2] The condition number is large, 3.1e+04. This might indicate that there are\n",
      "strong multicollinearity or other numerical problems.\n"
     ]
    },
    {
     "name": "stderr",
     "output_type": "stream",
     "text": [
      "C:\\Users\\gargk\\anaconda3\\lib\\site-packages\\statsmodels\\tsa\\tsatools.py:142: FutureWarning: In a future version of pandas all arguments of concat except for the argument 'objs' will be keyword-only\n",
      "  x = pd.concat(x[::order], 1)\n",
      "C:\\Users\\gargk\\anaconda3\\lib\\site-packages\\statsmodels\\stats\\stattools.py:74: ValueWarning: omni_normtest is not valid with less than 8 observations; 7 samples were given.\n",
      "  warn(\"omni_normtest is not valid with less than 8 observations; %i \"\n"
     ]
    }
   ],
   "source": [
    "# train Ordinary Least Squares model\n",
    "production_between_2001_to_2007 = sm.add_constant(production_between_2001_to_2007)\n",
    "model_between_2001_to_2007 = sm.OLS(y_between_2001_to_2007, production_between_2001_to_2007.drop(['production','PeopleEmployed', 'RelativeImportanceWeights'], axis = 1))\n",
    "result_between_2001_to_2007 = model_between_2001_to_2007.fit()\n",
    "\n",
    "print(result_between_2001_to_2007.summary())"
   ]
  },
  {
   "cell_type": "code",
   "execution_count": 49,
   "metadata": {},
   "outputs": [
    {
     "name": "stderr",
     "output_type": "stream",
     "text": [
      "C:\\Users\\gargk\\anaconda3\\lib\\site-packages\\statsmodels\\tsa\\tsatools.py:142: FutureWarning: In a future version of pandas all arguments of concat except for the argument 'objs' will be keyword-only\n",
      "  x = pd.concat(x[::order], 1)\n"
     ]
    },
    {
     "data": {
      "text/plain": [
       "year\n",
       "2008    1333.216204\n",
       "dtype: float64"
      ]
     },
     "execution_count": 49,
     "metadata": {},
     "output_type": "execute_result"
    }
   ],
   "source": [
    "x_2008_pred = sm.add_constant(production_2008.drop(['production', 'PeopleEmployed', 'RelativeImportanceWeights'], axis = 1), has_constant='add')\n",
    "y_2008_pred = result_between_2001_to_2007.predict(x_2008_pred)\n",
    "y_2008_pred"
   ]
  },
  {
   "cell_type": "code",
   "execution_count": 50,
   "metadata": {},
   "outputs": [
    {
     "data": {
      "text/plain": [
       "[<matplotlib.lines.Line2D at 0x2200b7065b0>]"
      ]
     },
     "execution_count": 50,
     "metadata": {},
     "output_type": "execute_result"
    },
    {
     "data": {
      "image/png": "[encoded data removed]",
      "text/plain": [
       "<Figure size 720x360 with 1 Axes>"
      ]
     },
     "metadata": {
      "needs_background": "light"
     },
     "output_type": "display_data"
    }
   ],
   "source": [
    "# Series \n",
    "\n",
    "series3 = pd.concat([y_between_2001_to_2007, y_2008], ignore_index=True)\n",
    "series4 = pd.concat([y_between_2001_to_2007, pd.DataFrame(y_2008_pred, columns = ['production'])], ignore_index=True)\n",
    "\n",
    "series3 = series3.join(pd.DataFrame(range(2001,2009)))\n",
    "series3 = series3.rename(columns = {0: 'year'})\n",
    "series3 = series3.set_index('year')\n",
    "\n",
    "series4 = series4.join(pd.DataFrame(range(2001,2009)))\n",
    "series4 = series4.rename(columns = {0: 'year'})\n",
    "series4 = series4.set_index('year')\n",
    "\n",
    "plt.figure(figsize=(10, 5))\n",
    "plt.xlim(2001, 2009)\n",
    "plt.xlabel('year')\n",
    "plt.ylabel('production')\n",
    "plt.plot(series3)\n",
    "plt.plot(series4)"
   ]
  },
  {
   "cell_type": "code",
   "execution_count": 51,
   "metadata": {},
   "outputs": [
    {
     "name": "stdout",
     "output_type": "stream",
     "text": [
      "Predicted vs Actual Difference:  16.47060400710211\n"
     ]
    }
   ],
   "source": [
    "print(\"Predicted vs Actual Difference: \", \n",
    "      pd.DataFrame(y_2008_pred).iloc[0][0] - y_2008.iloc[0][0])"
   ]
  },
  {
   "cell_type": "markdown",
   "metadata": {},
   "source": [
    "## production_between_2009_to_2018"
   ]
  },
  {
   "cell_type": "code",
   "execution_count": 52,
   "metadata": {},
   "outputs": [
    {
     "name": "stdout",
     "output_type": "stream",
     "text": [
      "                            OLS Regression Results                            \n",
      "==============================================================================\n",
      "Dep. Variable:             production   R-squared:                       0.994\n",
      "Model:                            OLS   Adj. R-squared:                  0.991\n",
      "Method:                 Least Squares   F-statistic:                     328.1\n",
      "Date:                Tue, 15 Mar 2022   Prob (F-statistic):           4.85e-07\n",
      "Time:                        22:32:25   Log-Likelihood:                -20.885\n",
      "No. Observations:                  10   AIC:                             49.77\n",
      "Df Residuals:                       6   BIC:                             50.98\n",
      "Df Model:                           3                                         \n",
      "Covariance Type:            nonrobust                                         \n",
      "===========================================================================================\n",
      "                              coef    std err          t      P>|t|      [0.025      0.975]\n",
      "-------------------------------------------------------------------------------------------\n",
      "const                     476.8947     56.834      8.391      0.000     337.826     615.963\n",
      "ProducerPriceIndex         -1.7041      0.380     -4.481      0.004      -2.635      -0.774\n",
      "EndUse-ImportPriceIndex     7.1213      0.426     16.700      0.000       6.078       8.165\n",
      "US GDP Growth (%)           6.7055      0.734      9.129      0.000       4.908       8.503\n",
      "==============================================================================\n",
      "Omnibus:                        2.193   Durbin-Watson:                   2.205\n",
      "Prob(Omnibus):                  0.334   Jarque-Bera (JB):                0.273\n",
      "Skew:                           0.306   Prob(JB):                        0.873\n",
      "Kurtosis:                       3.529   Cond. No.                     9.19e+03\n",
      "==============================================================================\n",
      "\n",
      "Notes:\n",
      "[1] Standard Errors assume that the covariance matrix of the errors is correctly specified.\n",
      "[2] The condition number is large, 9.19e+03. This might indicate that there are\n",
      "strong multicollinearity or other numerical problems.\n"
     ]
    },
    {
     "name": "stderr",
     "output_type": "stream",
     "text": [
      "C:\\Users\\gargk\\anaconda3\\lib\\site-packages\\scipy\\stats\\stats.py:1541: UserWarning: kurtosistest only valid for n>=20 ... continuing anyway, n=10\n",
      "  warnings.warn(\"kurtosistest only valid for n>=20 ... continuing \"\n"
     ]
    }
   ],
   "source": [
    "production_between_2009_to_2018 = sm.add_constant(production_between_2009_to_2018)\n",
    "model_between_2009_to_2018 = sm.OLS(y_between_2009_to_2018, production_between_2009_to_2018.drop(['production','PeopleEmployed', 'RelativeImportanceWeights', 'China  GDP Growth (%)'], axis = 1))\n",
    "result_between_2009_to_2018 = model_between_2009_to_2018.fit()\n",
    "\n",
    "print(result_between_2009_to_2018.summary())"
   ]
  },
  {
   "cell_type": "code",
   "execution_count": 53,
   "metadata": {},
   "outputs": [
    {
     "name": "stderr",
     "output_type": "stream",
     "text": [
      "C:\\Users\\gargk\\anaconda3\\lib\\site-packages\\statsmodels\\tsa\\tsatools.py:142: FutureWarning: In a future version of pandas all arguments of concat except for the argument 'objs' will be keyword-only\n",
      "  x = pd.concat(x[::order], 1)\n"
     ]
    },
    {
     "data": {
      "text/plain": [
       "year\n",
       "2019    1207.841536\n",
       "2020    1177.422198\n",
       "dtype: float64"
      ]
     },
     "execution_count": 53,
     "metadata": {},
     "output_type": "execute_result"
    }
   ],
   "source": [
    "x_2019_2020_pred = sm.add_constant(production_2019_2020.drop(['production', 'PeopleEmployed', 'RelativeImportanceWeights','China  GDP Growth (%)'], axis = 1), has_constant='add')\n",
    "y_2019_2020_pred = result_between_2009_to_2018.predict(x_2019_2020_pred)\n",
    "y_2019_2020_pred"
   ]
  },
  {
   "cell_type": "code",
   "execution_count": 54,
   "metadata": {},
   "outputs": [
    {
     "data": {
      "text/plain": [
       "[<matplotlib.lines.Line2D at 0x2200b725f70>]"
      ]
     },
     "execution_count": 54,
     "metadata": {},
     "output_type": "execute_result"
    },
    {
     "data": {
      "image/png": "[encoded data removed]",
      "text/plain": [
       "<Figure size 720x360 with 1 Axes>"
      ]
     },
     "metadata": {
      "needs_background": "light"
     },
     "output_type": "display_data"
    }
   ],
   "source": [
    "series5 = pd.concat([y_between_2009_to_2018, y_2019_2020], ignore_index=True)\n",
    "series6 = pd.concat([y_between_2009_to_2018, pd.DataFrame(y_2019_2020_pred, columns = ['production'])], ignore_index=True)\n",
    "\n",
    "series5 = series5.join(pd.DataFrame(range(2009,2021)))\n",
    "series5 = series5.rename(columns = {0: 'year'})\n",
    "series5 = series5.set_index('year')\n",
    "\n",
    "series6 = series6.join(pd.DataFrame(range(2009,2021)))\n",
    "series6 = series6.rename(columns = {0: 'year'})\n",
    "series6 = series6.set_index('year')\n",
    "\n",
    "plt.figure(figsize=(10, 5))\n",
    "plt.xlim(2009, 2021)\n",
    "plt.xlabel('year')\n",
    "plt.ylabel('production')\n",
    "plt.plot(series5)\n",
    "plt.plot(series6)"
   ]
  },
  {
   "cell_type": "markdown",
   "metadata": {},
   "source": [
    "## Real Effect \n",
    "\n",
    "### Dotcom bust:\n",
    "Now lets try to analyze what would have been the scenario without the dotcom burst"
   ]
  },
  {
   "cell_type": "markdown",
   "metadata": {},
   "source": [
    "#### To predict the real effect using the average of the change from past year to generate the X-variable if there is no impact from history\n",
    "\n",
    "Let's predict the real effects of all three events with predicted X-variables:\n",
    "\n",
    "We tried to get the predicted X-variable assuming there is no interruption and the X-variable is what follows the averaged growth rate based on data in the preceding years."
   ]
  },
  {
   "cell_type": "markdown",
   "metadata": {},
   "source": [
    "Here we manually imputed the data previous years to analyze the model without the dotcom burst"
   ]
  },
  {
   "cell_type": "code",
   "execution_count": 55,
   "metadata": {},
   "outputs": [
    {
     "name": "stdout",
     "output_type": "stream",
     "text": [
      "Predicted production:  1364.0179309273353\n"
     ]
    }
   ],
   "source": [
    "X_2001_pred = pd.DataFrame(data = {'ProducerPriceIndex':[85.18583333], \n",
    "                                   'EndUse-ImportPriceIndex':[96.20333333],\n",
    "                                  'China  GDP Growth (%)':[7.29941], \n",
    "                                   'US GDP Growth (%)':[4.62116]})\n",
    "X_2001_pred = sm.add_constant(X_2001_pred, has_constant='add')\n",
    "production_X_2001_pred = result_before_2001.predict(X_2001_pred) \n",
    "\n",
    "print(\"Predicted production: \",production_X_2001_pred.iloc[0])"
   ]
  },
  {
   "cell_type": "code",
   "execution_count": 56,
   "metadata": {},
   "outputs": [
    {
     "data": {
      "text/plain": [
       "[<matplotlib.lines.Line2D at 0x2200b784df0>]"
      ]
     },
     "execution_count": 56,
     "metadata": {},
     "output_type": "execute_result"
    },
    {
     "data": {
      "image/png": "[encoded data removed]",
      "text/plain": [
       "<Figure size 720x360 with 1 Axes>"
      ]
     },
     "metadata": {
      "needs_background": "light"
     },
     "output_type": "display_data"
    }
   ],
   "source": [
    "series2 = pd.concat([y_before_2001, pd.DataFrame(data = {'production': [production_X_2001_pred.iloc[0]]})], ignore_index=True)\n",
    "series2 = series2.join(pd.DataFrame(range(1985,2002)))\n",
    "series2 = series2.rename(columns = {0: 'year'})\n",
    "series2 = series2.set_index('year')\n",
    "\n",
    "plt.figure(figsize=(10, 5))\n",
    "plt.xlim(1985, 2002)\n",
    "plt.xlabel('year')\n",
    "plt.ylabel('production')\n",
    "plt.plot(series1)\n",
    "plt.plot(series2)"
   ]
  },
  {
   "cell_type": "code",
   "execution_count": 57,
   "metadata": {},
   "outputs": [
    {
     "name": "stdout",
     "output_type": "stream",
     "text": [
      "Predicted vs Actual Difference:  production    82.668431\n",
      "Name: 2001, dtype: float64\n"
     ]
    }
   ],
   "source": [
    "print(\"Predicted vs Actual Difference: \", \n",
    "      series2.iloc[-1] - series1.iloc[-1])"
   ]
  },
  {
   "cell_type": "markdown",
   "metadata": {},
   "source": [
    "### 2008 financial crisis"
   ]
  },
  {
   "cell_type": "code",
   "execution_count": 58,
   "metadata": {},
   "outputs": [
    {
     "name": "stdout",
     "output_type": "stream",
     "text": [
      "Predicted production:  0    1415.561779\n",
      "dtype: float64\n"
     ]
    }
   ],
   "source": [
    "X_2008_pred = pd.DataFrame(data = {'ProducerPriceIndex':[68.76916667], 'EndUse-ImportPriceIndex':[107.1475],\n",
    "                                  'China  GDP Growth (%)':[14.99758], 'US GDP Growth (%)':[2.10673]})\n",
    "X_2008_pred = sm.add_constant(X_2008_pred, has_constant='add')\n",
    "production_X_2008_pred = result_between_2001_to_2007.predict(X_2008_pred) \n",
    "\n",
    "print(\"Predicted production: \",production_X_2008_pred)"
   ]
  },
  {
   "cell_type": "code",
   "execution_count": 59,
   "metadata": {},
   "outputs": [
    {
     "data": {
      "text/plain": [
       "[<matplotlib.lines.Line2D at 0x2200c7bc970>]"
      ]
     },
     "execution_count": 59,
     "metadata": {},
     "output_type": "execute_result"
    },
    {
     "data": {
      "image/png": "[encoded data removed]",
      "text/plain": [
       "<Figure size 720x360 with 1 Axes>"
      ]
     },
     "metadata": {
      "needs_background": "light"
     },
     "output_type": "display_data"
    }
   ],
   "source": [
    "series4 = pd.concat([y_between_2001_to_2007, pd.DataFrame(data = {'production': [production_X_2008_pred.iloc[0]]})], ignore_index=True)\n",
    "series4 = series4.join(pd.DataFrame(range(2001, 2009)))\n",
    "series4 = series4.rename(columns = {0: 'year'})\n",
    "series4 = series4.set_index('year')\n",
    "\n",
    "plt.figure(figsize=(10, 5))\n",
    "plt.xlim(2001, 2009)\n",
    "plt.xlabel('year')\n",
    "plt.ylabel('production')\n",
    "plt.plot(series3)\n",
    "plt.plot(series4)"
   ]
  },
  {
   "cell_type": "code",
   "execution_count": 60,
   "metadata": {},
   "outputs": [
    {
     "name": "stdout",
     "output_type": "stream",
     "text": [
      "Predicted vs Actual Difference:  production    98.816179\n",
      "Name: 2008, dtype: float64\n"
     ]
    }
   ],
   "source": [
    "print(\"Predicted vs Actual Difference: \", \n",
    "      series4.iloc[-1] - series3.iloc[-1])"
   ]
  },
  {
   "cell_type": "markdown",
   "metadata": {},
   "source": [
    "### Covid-19"
   ]
  },
  {
   "cell_type": "code",
   "execution_count": 61,
   "metadata": {},
   "outputs": [
    {
     "name": "stdout",
     "output_type": "stream",
     "text": [
      "Predicted production:  0    1196.758147\n",
      "1    1196.735508\n",
      "dtype: float64\n"
     ]
    }
   ],
   "source": [
    "X_2019_2020_pred = pd.DataFrame(data = {'ProducerPriceIndex':[55.3025, 54.5045],\n",
    "                                        'EndUse-ImportPriceIndex':[111.8825, 111.6451667],\n",
    "                                        'US GDP Growth (%)':[2.58788, 2.633754]})\n",
    "X_2019_2020_pred = sm.add_constant(X_2019_2020_pred, has_constant='add')\n",
    "production_X_2019_2020_pred = result_between_2009_to_2018.predict(X_2019_2020_pred) \n",
    "\n",
    "\n",
    "print(\"Predicted production: \",production_X_2019_2020_pred)"
   ]
  },
  {
   "cell_type": "code",
   "execution_count": 62,
   "metadata": {},
   "outputs": [
    {
     "data": {
      "text/plain": [
       "[<matplotlib.lines.Line2D at 0x2200c8285b0>]"
      ]
     },
     "execution_count": 62,
     "metadata": {},
     "output_type": "execute_result"
    },
    {
     "data": {
      "image/png": "[encoded data removed]",
      "text/plain": [
       "<Figure size 720x360 with 1 Axes>"
      ]
     },
     "metadata": {
      "needs_background": "light"
     },
     "output_type": "display_data"
    }
   ],
   "source": [
    "series6 = pd.concat([y_between_2009_to_2018, pd.DataFrame(data = {'production': [production_X_2019_2020_pred.iloc[0], production_X_2019_2020_pred.iloc[1]]})], ignore_index=True)\n",
    "series6 = series6.join(pd.DataFrame(range(2009,2021)))\n",
    "series6 = series6.rename(columns = {0: 'year'})\n",
    "series6 = series6.set_index('year')\n",
    "\n",
    "plt.figure(figsize=(10, 5))\n",
    "plt.xlim(2009, 2021)\n",
    "plt.xlabel('year')\n",
    "plt.ylabel('production')\n",
    "plt.plot(series5)\n",
    "plt.plot(series6)"
   ]
  },
  {
   "cell_type": "code",
   "execution_count": 63,
   "metadata": {},
   "outputs": [
    {
     "name": "stdout",
     "output_type": "stream",
     "text": [
      "Predicted vs Actual Difference:  production    80.575708\n",
      "Name: 2020, dtype: float64\n"
     ]
    }
   ],
   "source": [
    "print(\"Predicted vs Actual Difference: \", \n",
    "      series6.iloc[-1] - series5.iloc[-1])"
   ]
  },
  {
   "cell_type": "markdown",
   "metadata": {},
   "source": [
    "This concludes our analysis that ProducerPriceIndex ,EndUse-ImportPriceIndex and US GDP Growth (%)  actually have a significant impact on the production of semiconductors."
   ]
  }
 ],
 "metadata": {
  "kernelspec": {
   "display_name": "Python 3",
   "language": "python",
   "name": "python3"
  },
  "language_info": {
   "codemirror_mode": {
    "name": "ipython",
    "version": 3
   },
   "file_extension": ".py",
   "mimetype": "text/x-python",
   "name": "python",
   "nbconvert_exporter": "python",
   "pygments_lexer": "ipython3",
   "version": "3.8.5"
  }
 },
 "nbformat": 4,
 "nbformat_minor": 4
}
